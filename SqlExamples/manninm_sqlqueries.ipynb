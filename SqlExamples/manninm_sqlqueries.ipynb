{
 "cells": [
  {
   "cell_type": "markdown",
   "metadata": {},
   "source": [
    "0.a. What is the number of rows in the features table?"
   ]
  },
  {
   "cell_type": "code",
   "execution_count": 1,
   "metadata": {},
   "outputs": [],
   "source": [
    "from sqlite3 import connect"
   ]
  },
  {
   "cell_type": "code",
   "execution_count": 2,
   "metadata": {},
   "outputs": [],
   "source": [
    "conn=connect('ce_gff.sqlite')"
   ]
  },
  {
   "cell_type": "code",
   "execution_count": 3,
   "metadata": {},
   "outputs": [],
   "source": [
    "curse=conn.cursor()"
   ]
  },
  {
   "cell_type": "code",
   "execution_count": 4,
   "metadata": {},
   "outputs": [],
   "source": [
    "sql='SELECT count(*) FROM features '"
   ]
  },
  {
   "cell_type": "code",
   "execution_count": 5,
   "metadata": {},
   "outputs": [
    {
     "data": {
      "text/plain": [
       "<sqlite3.Cursor at 0x7fb6ca7603b0>"
      ]
     },
     "execution_count": 5,
     "metadata": {},
     "output_type": "execute_result"
    }
   ],
   "source": [
    "curse.execute(sql)"
   ]
  },
  {
   "cell_type": "code",
   "execution_count": 6,
   "metadata": {},
   "outputs": [
    {
     "data": {
      "text/plain": [
       "[(659621,)]"
      ]
     },
     "execution_count": 6,
     "metadata": {},
     "output_type": "execute_result"
    }
   ],
   "source": [
    "curse.fetchall()"
   ]
  },
  {
   "cell_type": "markdown",
   "metadata": {
    "collapsed": true
   },
   "source": [
    "0.b What is the number of rows in the attributes table?"
   ]
  },
  {
   "cell_type": "code",
   "execution_count": 7,
   "metadata": {},
   "outputs": [],
   "source": [
    "sql='Select count(*) FROM attributes'"
   ]
  },
  {
   "cell_type": "code",
   "execution_count": 8,
   "metadata": {},
   "outputs": [
    {
     "data": {
      "text/plain": [
       "<sqlite3.Cursor at 0x7fb6ca7603b0>"
      ]
     },
     "execution_count": 8,
     "metadata": {},
     "output_type": "execute_result"
    }
   ],
   "source": [
    "curse.execute(sql)"
   ]
  },
  {
   "cell_type": "code",
   "execution_count": 9,
   "metadata": {},
   "outputs": [
    {
     "data": {
      "text/plain": [
       "[(3436229,)]"
      ]
     },
     "execution_count": 9,
     "metadata": {},
     "output_type": "execute_result"
    }
   ],
   "source": [
    "curse.fetchall()"
   ]
  },
  {
   "cell_type": "markdown",
   "metadata": {},
   "source": [
    "1. What are the types that are used in the features table (non-redundant list)"
   ]
  },
  {
   "cell_type": "code",
   "execution_count": 10,
   "metadata": {},
   "outputs": [],
   "source": [
    "sql='SELECT Distinct type FROM features'"
   ]
  },
  {
   "cell_type": "code",
   "execution_count": 11,
   "metadata": {},
   "outputs": [
    {
     "data": {
      "text/plain": [
       "<sqlite3.Cursor at 0x7fb6ca7603b0>"
      ]
     },
     "execution_count": 11,
     "metadata": {},
     "output_type": "execute_result"
    }
   ],
   "source": [
    "curse.execute(sql)"
   ]
  },
  {
   "cell_type": "code",
   "execution_count": 12,
   "metadata": {},
   "outputs": [
    {
     "data": {
      "text/plain": [
       "[('CDS',),\n",
       " ('chromosome',),\n",
       " ('exon',),\n",
       " ('five_prime_UTR',),\n",
       " ('gene',),\n",
       " ('lnc_RNA',),\n",
       " ('mRNA',),\n",
       " ('miRNA',),\n",
       " ('ncRNA',),\n",
       " ('ncRNA_gene',),\n",
       " ('piRNA',),\n",
       " ('pre_miRNA',),\n",
       " ('pseudogene',),\n",
       " ('pseudogenic_transcript',),\n",
       " ('rRNA',),\n",
       " ('snRNA',),\n",
       " ('snoRNA',),\n",
       " ('tRNA',),\n",
       " ('three_prime_UTR',)]"
      ]
     },
     "execution_count": 12,
     "metadata": {},
     "output_type": "execute_result"
    }
   ],
   "source": [
    "curse.fetchall()"
   ]
  },
  {
   "cell_type": "markdown",
   "metadata": {},
   "source": [
    "2. How many types of features are there? Yes, I know you can count the number of entries above, but I want to see a SQL statement that does this."
   ]
  },
  {
   "cell_type": "code",
   "execution_count": 13,
   "metadata": {},
   "outputs": [],
   "source": [
    "sql='SELECT count(DISTINCT type) from features'"
   ]
  },
  {
   "cell_type": "code",
   "execution_count": 14,
   "metadata": {},
   "outputs": [
    {
     "data": {
      "text/plain": [
       "<sqlite3.Cursor at 0x7fb6ca7603b0>"
      ]
     },
     "execution_count": 14,
     "metadata": {},
     "output_type": "execute_result"
    }
   ],
   "source": [
    "curse.execute(sql)"
   ]
  },
  {
   "cell_type": "code",
   "execution_count": 15,
   "metadata": {},
   "outputs": [
    {
     "data": {
      "text/plain": [
       "[(19,)]"
      ]
     },
     "execution_count": 15,
     "metadata": {},
     "output_type": "execute_result"
    }
   ],
   "source": [
    "curse.fetchall()"
   ]
  },
  {
   "cell_type": "markdown",
   "metadata": {},
   "source": [
    "3. What are the tag that are used in the attributes table (non-redundant list)"
   ]
  },
  {
   "cell_type": "code",
   "execution_count": 16,
   "metadata": {},
   "outputs": [],
   "source": [
    "sql='SELECT Distinct tag from attributes'"
   ]
  },
  {
   "cell_type": "code",
   "execution_count": 17,
   "metadata": {},
   "outputs": [
    {
     "data": {
      "text/plain": [
       "<sqlite3.Cursor at 0x7fb6ca7603b0>"
      ]
     },
     "execution_count": 17,
     "metadata": {},
     "output_type": "execute_result"
    }
   ],
   "source": [
    "curse.execute(sql)"
   ]
  },
  {
   "cell_type": "code",
   "execution_count": 18,
   "metadata": {},
   "outputs": [
    {
     "data": {
      "text/plain": [
       "[('Alias',),\n",
       " ('ID',),\n",
       " ('Name',),\n",
       " ('Parent',),\n",
       " ('biotype',),\n",
       " ('constitutive',),\n",
       " ('description',),\n",
       " ('ensembl_end_phase',),\n",
       " ('ensembl_phase',),\n",
       " ('exon_id',),\n",
       " ('gene_id',),\n",
       " ('logic_name',),\n",
       " ('protein_id',),\n",
       " ('rank',),\n",
       " ('transcript_id',),\n",
       " ('version',)]"
      ]
     },
     "execution_count": 18,
     "metadata": {},
     "output_type": "execute_result"
    }
   ],
   "source": [
    "curse.fetchall()"
   ]
  },
  {
   "cell_type": "markdown",
   "metadata": {},
   "source": [
    "4. How many different tags are there? Yes, I know you can count the number of entries above, but I want to see a SQL statement that does this."
   ]
  },
  {
   "cell_type": "code",
   "execution_count": 19,
   "metadata": {},
   "outputs": [],
   "source": [
    "sql='SELECT count(DISTINCT tag) from attributes'"
   ]
  },
  {
   "cell_type": "code",
   "execution_count": 20,
   "metadata": {},
   "outputs": [
    {
     "data": {
      "text/plain": [
       "<sqlite3.Cursor at 0x7fb6ca7603b0>"
      ]
     },
     "execution_count": 20,
     "metadata": {},
     "output_type": "execute_result"
    }
   ],
   "source": [
    "curse.execute(sql)"
   ]
  },
  {
   "cell_type": "code",
   "execution_count": 21,
   "metadata": {},
   "outputs": [
    {
     "data": {
      "text/plain": [
       "[(16,)]"
      ]
     },
     "execution_count": 21,
     "metadata": {},
     "output_type": "execute_result"
    }
   ],
   "source": [
    "curse.fetchall()"
   ]
  },
  {
   "cell_type": "markdown",
   "metadata": {},
   "source": [
    "5. How many genes are in C. elegans?"
   ]
  },
  {
   "cell_type": "code",
   "execution_count": 22,
   "metadata": {},
   "outputs": [],
   "source": [
    "sql='''Select count(*) from features where type is \"gene\"'''"
   ]
  },
  {
   "cell_type": "code",
   "execution_count": 23,
   "metadata": {},
   "outputs": [
    {
     "data": {
      "text/plain": [
       "<sqlite3.Cursor at 0x7fb6ca7603b0>"
      ]
     },
     "execution_count": 23,
     "metadata": {},
     "output_type": "execute_result"
    }
   ],
   "source": [
    "curse.execute(sql)"
   ]
  },
  {
   "cell_type": "code",
   "execution_count": 24,
   "metadata": {},
   "outputs": [
    {
     "data": {
      "text/plain": [
       "[(20222,)]"
      ]
     },
     "execution_count": 24,
     "metadata": {},
     "output_type": "execute_result"
    }
   ],
   "source": [
    "curse.fetchall()\n"
   ]
  },
  {
   "cell_type": "markdown",
   "metadata": {},
   "source": [
    "6. How many genes are on chromosome II?"
   ]
  },
  {
   "cell_type": "code",
   "execution_count": 25,
   "metadata": {},
   "outputs": [],
   "source": [
    "sql='''Select Count(*) from features \n",
    "WHERE type is 'gene' and seqid is'II'\n",
    "group by type;'''"
   ]
  },
  {
   "cell_type": "code",
   "execution_count": 26,
   "metadata": {},
   "outputs": [
    {
     "data": {
      "text/plain": [
       "<sqlite3.Cursor at 0x7fb6ca7603b0>"
      ]
     },
     "execution_count": 26,
     "metadata": {},
     "output_type": "execute_result"
    }
   ],
   "source": [
    "curse.execute(sql)"
   ]
  },
  {
   "cell_type": "code",
   "execution_count": 27,
   "metadata": {},
   "outputs": [
    {
     "data": {
      "text/plain": [
       "[(3496,)]"
      ]
     },
     "execution_count": 27,
     "metadata": {},
     "output_type": "execute_result"
    }
   ],
   "source": [
    "curse.fetchall()"
   ]
  },
  {
   "cell_type": "markdown",
   "metadata": {},
   "source": [
    "7. How many genes are on each chromosome in C. elegans? This should be one statement."
   ]
  },
  {
   "cell_type": "code",
   "execution_count": 28,
   "metadata": {},
   "outputs": [],
   "source": [
    "sql='''select seqid,\n",
    "count(*) from features Where type is \"gene\" group by seqid'''"
   ]
  },
  {
   "cell_type": "code",
   "execution_count": 29,
   "metadata": {},
   "outputs": [
    {
     "data": {
      "text/plain": [
       "<sqlite3.Cursor at 0x7fb6ca7603b0>"
      ]
     },
     "execution_count": 29,
     "metadata": {},
     "output_type": "execute_result"
    }
   ],
   "source": [
    "curse.execute(sql)"
   ]
  },
  {
   "cell_type": "code",
   "execution_count": 30,
   "metadata": {},
   "outputs": [
    {
     "data": {
      "text/plain": [
       "[('I', 2889),\n",
       " ('II', 3496),\n",
       " ('III', 2671),\n",
       " ('IV', 3305),\n",
       " ('MtDNA', 12),\n",
       " ('V', 5072),\n",
       " ('X', 2777)]"
      ]
     },
     "execution_count": 30,
     "metadata": {},
     "output_type": "execute_result"
    }
   ],
   "source": [
    "curse.fetchall()"
   ]
  },
  {
   "cell_type": "markdown",
   "metadata": {},
   "source": [
    "8. Get all of the features and their related attributes where the features seqid contains the characters \"Mt\", but limit the result to 10 rows."
   ]
  },
  {
   "cell_type": "code",
   "execution_count": 31,
   "metadata": {},
   "outputs": [],
   "source": [
    "sql='''Select * from features join attributes on\n",
    "(features.featureid=attributes.featureid) \n",
    "Where seqid LIKE \"%Mt%\" limit 10'''"
   ]
  },
  {
   "cell_type": "code",
   "execution_count": 32,
   "metadata": {},
   "outputs": [
    {
     "data": {
      "text/plain": [
       "<sqlite3.Cursor at 0x7fb6ca7603b0>"
      ]
     },
     "execution_count": 32,
     "metadata": {},
     "output_type": "execute_result"
    }
   ],
   "source": [
    "curse.execute(sql)"
   ]
  },
  {
   "cell_type": "code",
   "execution_count": 33,
   "metadata": {},
   "outputs": [
    {
     "data": {
      "text/plain": [
       "[(467043,\n",
       "  'MtDNA',\n",
       "  'WormBase',\n",
       "  'ncRNA_gene',\n",
       "  1,\n",
       "  55,\n",
       "  '.',\n",
       "  '+',\n",
       "  '.',\n",
       "  467043,\n",
       "  'ID',\n",
       "  'gene:WBGene00014450'),\n",
       " (467043,\n",
       "  'MtDNA',\n",
       "  'WormBase',\n",
       "  'ncRNA_gene',\n",
       "  1,\n",
       "  55,\n",
       "  '.',\n",
       "  '+',\n",
       "  '.',\n",
       "  467043,\n",
       "  'Name',\n",
       "  'MTCE.1'),\n",
       " (467043,\n",
       "  'MtDNA',\n",
       "  'WormBase',\n",
       "  'ncRNA_gene',\n",
       "  1,\n",
       "  55,\n",
       "  '.',\n",
       "  '+',\n",
       "  '.',\n",
       "  467043,\n",
       "  'biotype',\n",
       "  'tRNA'),\n",
       " (467043,\n",
       "  'MtDNA',\n",
       "  'WormBase',\n",
       "  'ncRNA_gene',\n",
       "  1,\n",
       "  55,\n",
       "  '.',\n",
       "  '+',\n",
       "  '.',\n",
       "  467043,\n",
       "  'gene_id',\n",
       "  'WBGene00014450'),\n",
       " (467043,\n",
       "  'MtDNA',\n",
       "  'WormBase',\n",
       "  'ncRNA_gene',\n",
       "  1,\n",
       "  55,\n",
       "  '.',\n",
       "  '+',\n",
       "  '.',\n",
       "  467043,\n",
       "  'logic_name',\n",
       "  'wormbase_non_coding'),\n",
       " (467044,\n",
       "  'MtDNA',\n",
       "  'WormBase',\n",
       "  'tRNA',\n",
       "  1,\n",
       "  55,\n",
       "  '.',\n",
       "  '+',\n",
       "  '.',\n",
       "  467044,\n",
       "  'ID',\n",
       "  'transcript:MTCE.1'),\n",
       " (467044,\n",
       "  'MtDNA',\n",
       "  'WormBase',\n",
       "  'tRNA',\n",
       "  1,\n",
       "  55,\n",
       "  '.',\n",
       "  '+',\n",
       "  '.',\n",
       "  467044,\n",
       "  'Parent',\n",
       "  'gene:WBGene00014450'),\n",
       " (467044,\n",
       "  'MtDNA',\n",
       "  'WormBase',\n",
       "  'tRNA',\n",
       "  1,\n",
       "  55,\n",
       "  '.',\n",
       "  '+',\n",
       "  '.',\n",
       "  467044,\n",
       "  'Name',\n",
       "  'MTCE.1'),\n",
       " (467044,\n",
       "  'MtDNA',\n",
       "  'WormBase',\n",
       "  'tRNA',\n",
       "  1,\n",
       "  55,\n",
       "  '.',\n",
       "  '+',\n",
       "  '.',\n",
       "  467044,\n",
       "  'biotype',\n",
       "  'tRNA'),\n",
       " (467044,\n",
       "  'MtDNA',\n",
       "  'WormBase',\n",
       "  'tRNA',\n",
       "  1,\n",
       "  55,\n",
       "  '.',\n",
       "  '+',\n",
       "  '.',\n",
       "  467044,\n",
       "  'transcript_id',\n",
       "  'MTCE.1')]"
      ]
     },
     "execution_count": 33,
     "metadata": {},
     "output_type": "execute_result"
    }
   ],
   "source": [
    "curse.fetchall()"
   ]
  },
  {
   "cell_type": "markdown",
   "metadata": {},
   "source": [
    "9. Report the genes that are completely contained within the region of 40000-100000 on chromosome III.  Report their seqid, type, start and end points."
   ]
  },
  {
   "cell_type": "code",
   "execution_count": 34,
   "metadata": {},
   "outputs": [],
   "source": [
    "sql='''select seqid, type, start, end from features\n",
    "where type is \"gene\" and start >=40000 and end <=100000 and seqid is \"III\"'''"
   ]
  },
  {
   "cell_type": "code",
   "execution_count": 35,
   "metadata": {},
   "outputs": [
    {
     "data": {
      "text/plain": [
       "<sqlite3.Cursor at 0x7fb6ca7603b0>"
      ]
     },
     "execution_count": 35,
     "metadata": {},
     "output_type": "execute_result"
    }
   ],
   "source": [
    "curse.execute(sql)"
   ]
  },
  {
   "cell_type": "code",
   "execution_count": 36,
   "metadata": {},
   "outputs": [
    {
     "data": {
      "text/plain": [
       "[('III', 'gene', 41061, 42021),\n",
       " ('III', 'gene', 57702, 58682),\n",
       " ('III', 'gene', 59869, 61166),\n",
       " ('III', 'gene', 62888, 66261),\n",
       " ('III', 'gene', 69073, 69817),\n",
       " ('III', 'gene', 70442, 86384),\n",
       " ('III', 'gene', 86677, 87381),\n",
       " ('III', 'gene', 87559, 89243),\n",
       " ('III', 'gene', 89453, 94809),\n",
       " ('III', 'gene', 95394, 97726),\n",
       " ('III', 'gene', 98398, 98922)]"
      ]
     },
     "execution_count": 36,
     "metadata": {},
     "output_type": "execute_result"
    }
   ],
   "source": [
    "curse.fetchall()"
   ]
  },
  {
   "cell_type": "markdown",
   "metadata": {},
   "source": [
    " 10. Report the genes that are completely contained within the region of 40000-100000 on chromosome III that have descriptions in the attribute table.  Report their seqid, type, start and end points, and the associated tag (which should be \"description\") and value."
   ]
  },
  {
   "cell_type": "code",
   "execution_count": 37,
   "metadata": {},
   "outputs": [],
   "source": [
    "sql='''select features.seqid, features.type, \n",
    "features.end, features.start, attributes.tag, attributes.value \n",
    "from features INNER JOIN attributes on features.featureid=attributes.featureid\n",
    "Where type is \"gene\" and start>=40000 and end<=100000 and seqid is \"III\" and \n",
    "attributes.tag is \"description\"'''"
   ]
  },
  {
   "cell_type": "code",
   "execution_count": 38,
   "metadata": {},
   "outputs": [
    {
     "data": {
      "text/plain": [
       "<sqlite3.Cursor at 0x7fb6ca7603b0>"
      ]
     },
     "execution_count": 38,
     "metadata": {},
     "output_type": "execute_result"
    }
   ],
   "source": [
    "curse.execute(sql)"
   ]
  },
  {
   "cell_type": "code",
   "execution_count": 39,
   "metadata": {},
   "outputs": [
    {
     "data": {
      "text/plain": [
       "[('III',\n",
       "  'gene',\n",
       "  42021,\n",
       "  41061,\n",
       "  'description',\n",
       "  'COLlagen  [Source:UniProtKB/TrEMBL;Acc:O44904]'),\n",
       " ('III',\n",
       "  'gene',\n",
       "  61166,\n",
       "  59869,\n",
       "  'description',\n",
       "  'BTB (Broad/complex/Tramtrack/Bric a brac) domain protein  [Source:UniProtKB/TrEMBL;Acc:O44905]'),\n",
       " ('III',\n",
       "  'gene',\n",
       "  66261,\n",
       "  62888,\n",
       "  'description',\n",
       "  'Phosphoenolypyruvate CarboxyKinase  [Source:UniProtKB/TrEMBL;Acc:Q8ITY0]'),\n",
       " ('III',\n",
       "  'gene',\n",
       "  69817,\n",
       "  69073,\n",
       "  'description',\n",
       "  'Transcription elongation factor SPT4  [Source:UniProtKB/Swiss-Prot;Acc:Q9TZ93]'),\n",
       " ('III',\n",
       "  'gene',\n",
       "  86384,\n",
       "  70442,\n",
       "  'description',\n",
       "  'AT hook Transcription Factor family  [Source:UniProtKB/TrEMBL;Acc:G4S460]'),\n",
       " ('III',\n",
       "  'gene',\n",
       "  89243,\n",
       "  87559,\n",
       "  'description',\n",
       "  'Mitochondrial Ribosomal Protein, Large  [Source:UniProtKB/TrEMBL;Acc:Q9TZ90]'),\n",
       " ('III',\n",
       "  'gene',\n",
       "  94809,\n",
       "  89453,\n",
       "  'description',\n",
       "  'Integrin-linked protein kinase homolog pat-4  [Source:UniProtKB/Swiss-Prot;Acc:Q9TZC4]')]"
      ]
     },
     "execution_count": 39,
     "metadata": {},
     "output_type": "execute_result"
    }
   ],
   "source": [
    "curse.fetchall()"
   ]
  },
  {
   "cell_type": "code",
   "execution_count": null,
   "metadata": {},
   "outputs": [],
   "source": []
  }
 ],
 "metadata": {
  "kernelspec": {
   "display_name": "Python 3",
   "language": "python",
   "name": "python3"
  },
  "language_info": {
   "codemirror_mode": {
    "name": "ipython",
    "version": 3
   },
   "file_extension": ".py",
   "mimetype": "text/x-python",
   "name": "python",
   "nbconvert_exporter": "python",
   "pygments_lexer": "ipython3",
   "version": "3.6.9"
  }
 },
 "nbformat": 4,
 "nbformat_minor": 2
}
