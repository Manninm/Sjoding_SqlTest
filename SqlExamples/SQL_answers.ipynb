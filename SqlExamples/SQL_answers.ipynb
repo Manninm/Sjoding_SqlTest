{
 "cells": [
  {
   "cell_type": "code",
   "execution_count": 1,
   "metadata": {},
   "outputs": [],
   "source": [
    "from sqlite3 import connect"
   ]
  },
  {
   "cell_type": "code",
   "execution_count": 2,
   "metadata": {},
   "outputs": [],
   "source": [
    "conn = connect('/class/data/ce_gff.sqlite')\n",
    "curs = conn.cursor()"
   ]
  },
  {
   "cell_type": "code",
   "execution_count": 35,
   "metadata": {},
   "outputs": [
    {
     "data": {
      "text/plain": [
       "659621"
      ]
     },
     "execution_count": 35,
     "metadata": {},
     "output_type": "execute_result"
    }
   ],
   "source": [
    "# 0a\n",
    "q0a = 'SELECT count(*) FROM features;'\n",
    "res0a = curs.execute(q0a)\n",
    "res0a.fetchone()[0]"
   ]
  },
  {
   "cell_type": "code",
   "execution_count": 36,
   "metadata": {},
   "outputs": [
    {
     "data": {
      "text/plain": [
       "3436229"
      ]
     },
     "execution_count": 36,
     "metadata": {},
     "output_type": "execute_result"
    }
   ],
   "source": [
    "# 0b\n",
    "q0b = 'SELECT count(*) FROM \"attributes\";'\n",
    "res0b = curs.execute(q0b)\n",
    "res0b.fetchone()[0]"
   ]
  },
  {
   "cell_type": "code",
   "execution_count": 37,
   "metadata": {
    "scrolled": true
   },
   "outputs": [
    {
     "name": "stdout",
     "output_type": "stream",
     "text": [
      "('CDS',)\n",
      "('chromosome',)\n",
      "('exon',)\n",
      "('five_prime_UTR',)\n",
      "('gene',)\n",
      "('lnc_RNA',)\n",
      "('mRNA',)\n",
      "('miRNA',)\n",
      "('ncRNA',)\n",
      "('ncRNA_gene',)\n",
      "('piRNA',)\n",
      "('pre_miRNA',)\n",
      "('pseudogene',)\n",
      "('pseudogenic_transcript',)\n",
      "('rRNA',)\n",
      "('snRNA',)\n",
      "('snoRNA',)\n",
      "('tRNA',)\n",
      "('three_prime_UTR',)\n"
     ]
    }
   ],
   "source": [
    "# 1\n",
    "q1 = 'SELECT DISTINCT type FROM features;'\n",
    "res1 = curs.execute(q1)\n",
    "for _ in res1: print(_)"
   ]
  },
  {
   "cell_type": "code",
   "execution_count": 38,
   "metadata": {},
   "outputs": [
    {
     "data": {
      "text/plain": [
       "19"
      ]
     },
     "execution_count": 38,
     "metadata": {},
     "output_type": "execute_result"
    }
   ],
   "source": [
    "# 2\n",
    "q2 = 'SELECT count(DISTINCT type) FROM features;'\n",
    "res2 = curs.execute(q2)\n",
    "res2.fetchone()[0]"
   ]
  },
  {
   "cell_type": "code",
   "execution_count": 39,
   "metadata": {},
   "outputs": [
    {
     "name": "stdout",
     "output_type": "stream",
     "text": [
      "('Alias',)\n",
      "('ID',)\n",
      "('Name',)\n",
      "('Parent',)\n",
      "('biotype',)\n",
      "('constitutive',)\n",
      "('description',)\n",
      "('ensembl_end_phase',)\n",
      "('ensembl_phase',)\n",
      "('exon_id',)\n",
      "('gene_id',)\n",
      "('logic_name',)\n",
      "('protein_id',)\n",
      "('rank',)\n",
      "('transcript_id',)\n",
      "('version',)\n"
     ]
    }
   ],
   "source": [
    "# 3\n",
    "q3 = 'SELECT DISTINCT tag FROM \"attributes\";'\n",
    "res3 = curs.execute(q3)\n",
    "for _ in res3: print(_)"
   ]
  },
  {
   "cell_type": "code",
   "execution_count": 40,
   "metadata": {},
   "outputs": [
    {
     "data": {
      "text/plain": [
       "16"
      ]
     },
     "execution_count": 40,
     "metadata": {},
     "output_type": "execute_result"
    }
   ],
   "source": [
    "# 4\n",
    "q4 = 'SELECT count(DISTINCT tag) FROM \"attributes\";'\n",
    "res4 = curs.execute(q4)\n",
    "res4.fetchone()[0]"
   ]
  },
  {
   "cell_type": "code",
   "execution_count": 41,
   "metadata": {},
   "outputs": [
    {
     "data": {
      "text/plain": [
       "20222"
      ]
     },
     "execution_count": 41,
     "metadata": {},
     "output_type": "execute_result"
    }
   ],
   "source": [
    "# 5\n",
    "q5 = 'SELECT count(*) FROM features WHERE features.\"type\" = \"gene\";'\n",
    "res5 = curs.execute(q5)\n",
    "res5.fetchone()[0]"
   ]
  },
  {
   "cell_type": "code",
   "execution_count": 42,
   "metadata": {},
   "outputs": [
    {
     "data": {
      "text/plain": [
       "3496"
      ]
     },
     "execution_count": 42,
     "metadata": {},
     "output_type": "execute_result"
    }
   ],
   "source": [
    "# 6\n",
    "q6 = 'SELECT count(*) FROM features WHERE \"type\" = \"gene\" AND seqid = \"II\";'\n",
    "res6 = curs.execute(q6)\n",
    "res6.fetchone()[0]"
   ]
  },
  {
   "cell_type": "code",
   "execution_count": 43,
   "metadata": {},
   "outputs": [
    {
     "name": "stdout",
     "output_type": "stream",
     "text": [
      "('I', 2889)\n",
      "('II', 3496)\n",
      "('III', 2671)\n",
      "('IV', 3305)\n",
      "('MtDNA', 12)\n",
      "('V', 5072)\n",
      "('X', 2777)\n"
     ]
    }
   ],
   "source": [
    "# 7\n",
    "q7 = 'SELECT seqid, count(type) FROM features WHERE type=\"gene\" GROUP BY seqid;'\n",
    "res7 = curs.execute(q7)\n",
    "for _ in res7: print(_)"
   ]
  },
  {
   "cell_type": "code",
   "execution_count": 44,
   "metadata": {},
   "outputs": [
    {
     "name": "stdout",
     "output_type": "stream",
     "text": [
      "(467043, 'MtDNA', 'WormBase', 'ncRNA_gene', 1, 55, '.', '+', '.', 467043, 'ID', 'gene:WBGene00014450')\n",
      "(467043, 'MtDNA', 'WormBase', 'ncRNA_gene', 1, 55, '.', '+', '.', 467043, 'Name', 'MTCE.1')\n",
      "(467043, 'MtDNA', 'WormBase', 'ncRNA_gene', 1, 55, '.', '+', '.', 467043, 'biotype', 'tRNA')\n",
      "(467043, 'MtDNA', 'WormBase', 'ncRNA_gene', 1, 55, '.', '+', '.', 467043, 'gene_id', 'WBGene00014450')\n",
      "(467043, 'MtDNA', 'WormBase', 'ncRNA_gene', 1, 55, '.', '+', '.', 467043, 'logic_name', 'wormbase_non_coding')\n",
      "(467044, 'MtDNA', 'WormBase', 'tRNA', 1, 55, '.', '+', '.', 467044, 'ID', 'transcript:MTCE.1')\n",
      "(467044, 'MtDNA', 'WormBase', 'tRNA', 1, 55, '.', '+', '.', 467044, 'Parent', 'gene:WBGene00014450')\n",
      "(467044, 'MtDNA', 'WormBase', 'tRNA', 1, 55, '.', '+', '.', 467044, 'Name', 'MTCE.1')\n",
      "(467044, 'MtDNA', 'WormBase', 'tRNA', 1, 55, '.', '+', '.', 467044, 'biotype', 'tRNA')\n",
      "(467044, 'MtDNA', 'WormBase', 'tRNA', 1, 55, '.', '+', '.', 467044, 'transcript_id', 'MTCE.1')\n"
     ]
    }
   ],
   "source": [
    "# 8\n",
    "q8 = '''SELECT features.*, attributes.*\n",
    "FROM features JOIN \"attributes\" ON features.featureid = \"attributes\".featureid\n",
    "WHERE seqid LIKE \"%Mt%\"\n",
    "LIMIT 10;'''\n",
    "res8 = curs.execute(q8)\n",
    "for _ in res8: print(_)"
   ]
  },
  {
   "cell_type": "code",
   "execution_count": 45,
   "metadata": {},
   "outputs": [
    {
     "name": "stdout",
     "output_type": "stream",
     "text": [
      "('III', 'gene', 41061, 42021)\n",
      "('III', 'gene', 57702, 58682)\n",
      "('III', 'gene', 59869, 61166)\n",
      "('III', 'gene', 62888, 66261)\n",
      "('III', 'gene', 69073, 69817)\n",
      "('III', 'gene', 70442, 86384)\n",
      "('III', 'gene', 86677, 87381)\n",
      "('III', 'gene', 87559, 89243)\n",
      "('III', 'gene', 89453, 94809)\n",
      "('III', 'gene', 95394, 97726)\n",
      "('III', 'gene', 98398, 98922)\n"
     ]
    }
   ],
   "source": [
    "# 9\n",
    "q9 = '''SELECT t1.seqid, t1.type, t1.start, t1.end\n",
    "FROM features t1\n",
    "WHERE t1.seqid = \"III\"\n",
    "AND t1.start BETWEEN 40000 AND 100000\n",
    "AND t1.\"end\" BETWEEN 40000 AND 100000\n",
    "AND t1.\"type\" = \"gene\";'''\n",
    "res9 = curs.execute(q9)\n",
    "for _ in res9: print(_)"
   ]
  },
  {
   "cell_type": "code",
   "execution_count": 49,
   "metadata": {
    "scrolled": true
   },
   "outputs": [
    {
     "name": "stdout",
     "output_type": "stream",
     "text": [
      "('III', 'gene', 41061, 42021, 'description', 'COLlagen  [Source:UniProtKB/TrEMBL;Acc:O44904]')\n",
      "('III', 'gene', 59869, 61166, 'description', 'BTB (Broad/complex/Tramtrack/Bric a brac) domain protein  [Source:UniProtKB/TrEMBL;Acc:O44905]')\n",
      "('III', 'gene', 62888, 66261, 'description', 'Phosphoenolypyruvate CarboxyKinase  [Source:UniProtKB/TrEMBL;Acc:Q8ITY0]')\n",
      "('III', 'gene', 69073, 69817, 'description', 'Transcription elongation factor SPT4  [Source:UniProtKB/Swiss-Prot;Acc:Q9TZ93]')\n",
      "('III', 'gene', 70442, 86384, 'description', 'AT hook Transcription Factor family  [Source:UniProtKB/TrEMBL;Acc:G4S460]')\n",
      "('III', 'gene', 87559, 89243, 'description', 'Mitochondrial Ribosomal Protein, Large  [Source:UniProtKB/TrEMBL;Acc:Q9TZ90]')\n",
      "('III', 'gene', 89453, 94809, 'description', 'Integrin-linked protein kinase homolog pat-4  [Source:UniProtKB/Swiss-Prot;Acc:Q9TZC4]')\n"
     ]
    }
   ],
   "source": [
    "q10 = '''SELECT t1.seqid, t1.type, t1.start, t1.end, t2.tag, t2.value\n",
    "from features t1 \n",
    "JOIN attributes t2 ON t1.featureid = t2.featureid\n",
    "where t1.seqid = \"III\"\n",
    "AND t1.start BETWEEN 40000 AND 100000\n",
    "AND t1.\"end\" BETWEEN 40000 AND 100000\n",
    "AND t2.tag = 'description'\n",
    "AND t1.\"type\" = \"gene\"'''\n",
    "res10 = curs.execute(q10)\n",
    "for _ in res10: print(_)"
   ]
  },
  {
   "cell_type": "code",
   "execution_count": 81,
   "metadata": {},
   "outputs": [
    {
     "name": "stdout",
     "output_type": "stream",
     "text": [
      "('III', 'gene', 41061, 42021, 'gene_id', 'WBGene00000663', 'description', 'COLlagen  [Source:UniProtKB/TrEMBL;Acc:O44904]')\n",
      "('III', 'gene', 57702, 58682, 'gene_id', 'WBGene00021040', None, None)\n",
      "('III', 'gene', 59869, 61166, 'gene_id', 'WBGene00021042', 'description', 'BTB (Broad/complex/Tramtrack/Bric a brac) domain protein  [Source:UniProtKB/TrEMBL;Acc:O44905]')\n",
      "('III', 'gene', 62888, 66261, 'gene_id', 'WBGene00021043', 'description', 'Phosphoenolypyruvate CarboxyKinase  [Source:UniProtKB/TrEMBL;Acc:Q8ITY0]')\n",
      "('III', 'gene', 69073, 69817, 'gene_id', 'WBGene00005014', 'description', 'Transcription elongation factor SPT4  [Source:UniProtKB/Swiss-Prot;Acc:Q9TZ93]')\n",
      "('III', 'gene', 70442, 86384, 'gene_id', 'WBGene00018794', 'description', 'AT hook Transcription Factor family  [Source:UniProtKB/TrEMBL;Acc:G4S460]')\n",
      "('III', 'gene', 86677, 87381, 'gene_id', 'WBGene00018795', None, None)\n",
      "('III', 'gene', 87559, 89243, 'gene_id', 'WBGene00018793', 'description', 'Mitochondrial Ribosomal Protein, Large  [Source:UniProtKB/TrEMBL;Acc:Q9TZ90]')\n",
      "('III', 'gene', 89453, 94809, 'gene_id', 'WBGene00003931', 'description', 'Integrin-linked protein kinase homolog pat-4  [Source:UniProtKB/Swiss-Prot;Acc:Q9TZC4]')\n",
      "('III', 'gene', 95394, 97726, 'gene_id', 'WBGene00016222', None, None)\n",
      "('III', 'gene', 98398, 98922, 'gene_id', 'WBGene00016223', None, None)\n"
     ]
    }
   ],
   "source": [
    "ex = \"\"\"SELECT t1.seqid, t1.type, t1.start, t1.end, t2.tag, t2.value, t3.tag, t3.value\n",
    "FROM features t1 \n",
    "JOIN attributes t2 ON t1.featureid = t2.featureid \n",
    "AND t2.tag = 'gene_id'\n",
    "LEFT JOIN attributes t3 ON t2.featureid = t3.featureid \n",
    "AND t3.tag = 'description'\n",
    "WHERE t1.start BETWEEN 40000 AND 100000\n",
    "AND t1.\"end\" BETWEEN 40000 AND 100000\n",
    "AND t1.seqid = 'III'\n",
    "AND t1.type = 'gene'\"\"\"\n",
    "res_ex = curs.execute(ex)\n",
    "for _ in res_ex: print(_)"
   ]
  },
  {
   "cell_type": "code",
   "execution_count": null,
   "metadata": {},
   "outputs": [],
   "source": []
  }
 ],
 "metadata": {
  "kernelspec": {
   "display_name": "Python 3",
   "language": "python",
   "name": "python3"
  },
  "language_info": {
   "codemirror_mode": {
    "name": "ipython",
    "version": 3
   },
   "file_extension": ".py",
   "mimetype": "text/x-python",
   "name": "python",
   "nbconvert_exporter": "python",
   "pygments_lexer": "ipython3",
   "version": "3.6.4"
  }
 },
 "nbformat": 4,
 "nbformat_minor": 2
}
