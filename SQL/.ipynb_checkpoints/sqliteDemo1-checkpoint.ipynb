{
 "cells": [
  {
   "cell_type": "code",
   "execution_count": 2,
   "metadata": {
    "collapsed": true
   },
   "outputs": [],
   "source": [
    "from sqlite3 import connect"
   ]
  },
  {
   "cell_type": "code",
   "execution_count": 3,
   "metadata": {
    "collapsed": true
   },
   "outputs": [],
   "source": [
    "conn = connect('small_pfam.sqlite')"
   ]
  },
  {
   "cell_type": "code",
   "execution_count": 4,
   "metadata": {
    "collapsed": true
   },
   "outputs": [],
   "source": [
    "curs = conn.cursor()"
   ]
  },
  {
   "cell_type": "code",
   "execution_count": 5,
   "metadata": {
    "collapsed": true
   },
   "outputs": [],
   "source": [
    "sql = '''select name\n",
    "from sqlite_master \n",
    "where type= \"table\"'''"
   ]
  },
  {
   "cell_type": "markdown",
   "metadata": {},
   "source": [
    "select - which columns to include in the result\n",
    "from - which tables to use\n",
    "where - predicate clause, which rows to include"
   ]
  },
  {
   "cell_type": "code",
   "execution_count": 6,
   "metadata": {},
   "outputs": [
    {
     "data": {
      "text/plain": [
       "<sqlite3.Cursor at 0x7fefac947340>"
      ]
     },
     "execution_count": 6,
     "metadata": {},
     "output_type": "execute_result"
    }
   ],
   "source": [
    "curs.execute(sql)"
   ]
  },
  {
   "cell_type": "code",
   "execution_count": 7,
   "metadata": {},
   "outputs": [
    {
     "name": "stdout",
     "output_type": "stream",
     "text": [
      "(u'version',)\n",
      "(u'pfamA',)\n",
      "(u'pfamA_interactions',)\n",
      "(u'gene_ontology',)\n",
      "(u'pfamA_literature_reference',)\n",
      "(u'literature_reference',)\n",
      "(u'pfamA_database_links',)\n",
      "(u'interpro',)\n"
     ]
    }
   ],
   "source": [
    "for row in curs: print(row)"
   ]
  },
  {
   "cell_type": "markdown",
   "metadata": {},
   "source": [
    "To get the schema of a table:"
   ]
  },
  {
   "cell_type": "code",
   "execution_count": 8,
   "metadata": {
    "collapsed": true
   },
   "outputs": [],
   "source": [
    "sql = 'pragma table_info(\"interpro\")'"
   ]
  },
  {
   "cell_type": "code",
   "execution_count": 9,
   "metadata": {},
   "outputs": [
    {
     "data": {
      "text/plain": [
       "<sqlite3.Cursor at 0x7fefac947340>"
      ]
     },
     "execution_count": 9,
     "metadata": {},
     "output_type": "execute_result"
    }
   ],
   "source": [
    "curs.execute(sql)"
   ]
  },
  {
   "cell_type": "code",
   "execution_count": 10,
   "metadata": {},
   "outputs": [
    {
     "data": {
      "text/plain": [
       "[(0, u'pfamA_acc', u'TEXT', 1, None, 0),\n",
       " (1, u'interpro_id', u'TEXT', 1, None, 0),\n",
       " (2, u'abstract', u'TEXT', 1, None, 0)]"
      ]
     },
     "execution_count": 10,
     "metadata": {},
     "output_type": "execute_result"
    }
   ],
   "source": [
    "curs.fetchall()"
   ]
  },
  {
   "cell_type": "code",
   "execution_count": 11,
   "metadata": {
    "collapsed": true
   },
   "outputs": [],
   "source": [
    "sql = 'select * from pfamA limit 10;'"
   ]
  },
  {
   "cell_type": "code",
   "execution_count": 12,
   "metadata": {},
   "outputs": [
    {
     "data": {
      "text/plain": [
       "<sqlite3.Cursor at 0x7fefac947340>"
      ]
     },
     "execution_count": 12,
     "metadata": {},
     "output_type": "execute_result"
    }
   ],
   "source": [
    "curs.execute(sql)"
   ]
  },
  {
   "cell_type": "code",
   "execution_count": 13,
   "metadata": {},
   "outputs": [
    {
     "name": "stdout",
     "output_type": "stream",
     "text": [
      "(u'PF00001', u'7tm_1', u'', u'7 transmembrane receptor (rhodopsin family)', u'Sonnhammer ELL', u'anon', u'Prosite', u'Family', u'This family contains, amongst other G-protein-coupled receptors (GCPRs), members of the opsin family, which have been considered to be typical members of the rhodopsin superfamily. They share several motifs, mainly the seven transmembrane helices, GCPRs of the rhodopsin superfamily. All opsins bind a chromophore, such as 11-cis-retinal. The function of most opsins other than the photoisomerases is split into two steps: light absorption and G-protein activation. Photoisomerases, on the other hand, are not coupled to G-proteins - they are thought to generate and supply the chromophore that is used by visual opsins [1].', 23.8, 23.8, 23.8, 23.8, 23.7, 23.7, u'hmmbuild  -o /dev/null --hand HMM SEED', 268, u'hmmsearch -Z 17690987 -E 1000 --cpu 4 HMM pfamseq', 0.7, -11.06, 0.7, -11.96, 0.7, -5.38, 64, 31273, u'2016-04-19 23:28:59', u'2003-04-07 12:59:11', 19, 352, 208, 234, 227924, 12, 254.2, 18, 68.24, u'CHANGED', u'GNhlVlhslht.p+c....h+o.ssshalhsLAluDLlhslhs.lPhhhh..........h.h.....ht.W.h..Gph...hCclhshhhhhshhuSlhhLsslolDRYlAIscPhphtth....hpputsh..hhhlWhhuhllulP.hhhhsp.................ttststChhph...........h.hhhtlhhhlh...uFhl.PhhlhshsYshI....hp.......tltp.....................................................................................................................................................................................................................................................................................................................................................................................................................htptppcp+s.h+...hlhsllslFhlCWhPahlhhhhtshpp.th.........th.thhh.hh.h.......luhsssslNPllY', u'....................................................................................................................................................................................................................................................................................................................................................................................................................................tNhhl..l....h...s.....h....ht....p...p.p.............h..c....s......s..........s.......s...h....h......l......h........s......L.A....l.u...........D.....l.....l.....h........s.....h...........s.....h....P.h...hhh.......................................................h.........htp.W.......h.........u.p.h...........hC........p........h.........h...........h......h.......h...................h...............h.........s.......h........h...s....S.........l.......h..........h.......L......s..s........l...u......l......-................R.............Y...............h.......u..........l...s.....p...P......hp..htth..........................hp.p..s..h..hh................hsh..h..W.....h......h.....u.........h.......h....h......s...h.....s.............h.....h..h.hph.................................................................................t...h....t.........C.h...h.......................................................h..h...h...h...h.....h.....h....h....h..h...........h..a....h.....l.........P....h.....h....l.....h.......h....h...h.....Y.h.h.l................h.h.......................t.l..p....p.....................................................................................................................................................................................................................................................................................................................................................................................................................................................................................................................................................................................................................................................................................................................................................................................................................................................................................................................................................................................................................................................................................................................t...........t...t....t...................p........p....c.............p...+....s....hp........................h...l...h...h....l....l...h....s.......F...h...l.....s...W...h...P.....h...h......l......h......h......h....h..........h....h.....t............................................................h............h......h....h.........h....h..h.h......................l.s...h....h.s....u...s...h......N.P.hlY......................................................................................................................................................................................................................................................................................................................................................................................................................................................................................................................................................................................................................................................................................', 0, 81164, 1, 9800, 14965, 23693, 29414)\n",
      "(u'PF00002', u'7tm_2', u'', u'7 transmembrane receptor (Secretin family)', u'Sonnhammer ELL', u'anon', u'Prosite', u'Family', u'This family is known as Family B, the secretin-receptor family or family 2 of the G-protein-coupled receptors (GCPRs).They have been described in many animal species, but not in plants, fungi or prokaryotes. Three distinct sub-families are recognised. Subfamily B1 contains classical hormone receptors, such as receptors for secretin and glucagon, that are all involved in cAMP-mediated signalling pathways. Subfamily B2 contains receptors with long extracellular N-termini, such as the leukocyte cell-surface antigen CD97 (Swiss:P48960); calcium-independent receptors for latrotoxin (such as Swiss:O94910), and brain-specific angiogenesis inhibitors (such as Swiss:O14514) amongst others. Subfamily B3 includes Methuselah and other Drosophila proteins (e.g. Swiss:P83119). Other than the typical seven-transmembrane region, characteristic structural features include an amino-terminal extracellular domain involved in ligand binding, and an intracellular loop (IC3) required for specific G-protein coupling [1].', 20.6, 20.6, 20.6, 20.6, 20.5, 20.5, u'hmmbuild  -o /dev/null HMM SEED', 245, u'hmmsearch -Z 17690987 -E 1000 --cpu 4 HMM pfamseq', 0.7, -11.05, 0.7, -11.79, 0.7, -5.29, 29, 5681, u'2016-04-19 23:28:59', u'2003-04-07 12:59:11', 22, 458, 290, 7, 25030, 4, 225.2, 22, 27.91, u'CHANGED', u'hhplpllhhlGaulSLsuLllAlhlhshF.RpL+Cs.RNhIHhNLhhoalLpshh.hhltpthhhs.............t...t.......................................ls..C+lssshhpYhhhssFhWhLlEGlYLasL.....lVhsahs-.+thhhhahllGWGhPslhlslasss...+sa...............hpsstC.Whspcs..shhWlhpGPlhhslllNhllFlpllplLhpKlppsphstscht..............................p+hs+...oollLlPLLGlpal..lFshsPcs....h..hlhhahthhlsSaQGhhV', u'................................................................................h...h.hl.hlG.h.s...l...S.lh.s..L...h...h..s...l...h...h......h......h...h..............h.......+................p...............l..........p.....s.....p......p..........s.......h......l....p........h......s.....L....h.....h.......u....h...h.....ht.....t.lh.....h.l...l...t....t..hh..............................................................................................................................hh..C..thh.s.hh..h.....c..........a.h....h.l.u.s..a.h.....W.h...hl...E...ul..h.L...a...h..h..........................l.....s..........h..........s...........h.....................s.........p.........p.............p.......h.....h..h.........h......a....h......h....l.....G.......W........G...h..P..h.l..h.ls.....l.....hssh.............c.th.................................................h...p...s...p....h......C.....Wh..............p......................p.....s.................hh..h......a..........h..........h...h..........s....P....h...h......h....h....l..........h...........l.............N....h.h.......h..h....l........h...h...l....h..h..l...h....p..p...h....p....t....t........p.......t..t...p....p.....t....................................................................................................h.ph.h.t.....ss.......h..h....L..h........L...h........G.l.p.ah........lh..h...h.......tt...............hh...hh....hhhsu.hQ..Ghhl............................................................................................................................................................', 1, 9835, 1, 1569, 2403, 3788, 4895)\n",
      "(u'PF00003', u'7tm_3', u'', u'7 transmembrane sweet-taste receptor of 3 GCPR', u'Sonnhammer ELL', u'anon', u'Prosite', u'Family', u'This is a domain of seven transmembrane regions that forms the C-terminus of some subclass 3 G-coupled-protein receptors. It is often associated with a downstream cysteine-rich linker domain, NCD3G Pfam:PF07562, which is the human sweet-taste receptor, and the N-terminal domain, ANF_receptor Pfam:PF01094. The seven TM regions assemble in such a way as to produce a docking pocket into which such molecules as cyclamate and lactisole have been found to bind and consequently confer the taste of sweetness [1].', 28.5, 28.5, 28.5, 28.7, 28.3, 28.3, u'hmmbuild  -o /dev/null HMM SEED', 234, u'hmmsearch -Z 17690987 -E 1000 --cpu 4 HMM pfamseq', 0.7, -10.88, 0.7, -12.19, 0.7, -4.79, 810, 4578, u'2016-04-19 23:29:00', u'2003-04-07 12:59:11', 20, 97, 176, 5, 13757, 7, 229.4, 26, 30.2, u'CHANGED', u'hlhsh...hlhsl...hlpa..+p...osll+u..ssht.Lshll.......Lhu.lhl....sa...ls...........hhhl................s................ps..........s.hs..........Ch......h.............................cp...hhhuls..F..ols........h.usll......s...K..oh.plh........hhF..................t.....st..............tp..................hhts......hphhh.lhhhs.....hlplh.lssh...W.l..h...hs.P...........................................................................................pht.....................................................................tphhh.C..t......................s.......hh.hhhluY...hslLhlhshhl.....A...........................a.hs.Rpl........P...psaN.Eu+aIsh.ohh............shhhlWlsalshhhssp.................sphh...............hsl......shull.......ho.shshLshlFhPKsal', u'.................................................................................................................................................................................hhsh....hlhsl....Flpa..pc.....TPl.V...+u....sstp...Lsall.........Lhu..lhl............................sa....ls......hhal.........u.........................pPsshs...............Chl.............................+p...hhhu.ls....F...sls....h..uslL.....s....K.....Th...plh.......hhF..................................................ct.......pt...........h.phlss........tphhh..lhhhs................hlQll.lss.h...............Whh.h....s.P......s...................................................................................ph..p..............................................tphhl.C.........................h.shsh..hhsluY......................hslLh.l.h...shh..h.....A...............................a..hs...Rpl.......................P......csFN...EAKa.Is....F..oMh...........................s.hshlW..ls.FlPh.ahssp...............sphh.........................sss...................shull.hS....uhs.hLshlFhPKsa....................................................................', 0, 7711, 1, 1134, 2318, 3450, 4069)\n",
      "(u'PF00004', u'AAA', u'', u'ATPase family associated with various cellular activities (AAA)', u'Sonnhammer ELL', u'anon', u'Prosite', u'Domain', u'AAA family proteins often perform chaperone-like functions that assist in the assembly, operation, or disassembly of protein complexes [2].', 20.8, 20.8, 20.8, 20.8, 20.7, 20.7, u'hmmbuild  -o /dev/null HMM SEED', 132, u'hmmsearch -Z 17690987 -E 1000 --cpu 4 HMM pfamseq', 0.71, -9.58, 0.71, -10.74, 0.71, -3.94, 207, 56215, u'2016-04-22 01:25:15', u'2003-04-07 12:59:11', 27, 792, 3427, 606, 419743, 30061, 130.1, 26, 21.67, u'CHANGED', u'lLLhGPPGsGKThlA+ulAsp...............h.............s....hs.................a.hplsusplh.t.................ahGtutppl+plapp.A....cpts........s.sllFlDElDulssp+................t..tppshspLLsthDshpst..........................s.lhlluATNc..s-tl-sALh.h.uRh-phlhhsh', u'..........................................................................................................hLLhGP.P..G......s.........G......K........T..h.......l....A....+..........u...l....A..pp.......................................h.............................s................hs...................................................................................................h...h....p....l......s....s...u....p....l....h....pt.............................................................................................................................................................a..h...G....p.....s...t......p......p.....l.....+.....p......l.......h....pp....u..................ppts..............................s..sl...l...F....l........D...E....l....D...s....l....s..stp...........................................ttt....t.t...p.........s...h....s....t...L....L..s...........h...-...s.h.pt.................................................................................t.....h....h...l..l.....u....u.....T....Np.............p............l.........-...............Alh.........sR.hph.h....h..............................................................................................................................................................................................................................................', 0, 150850, 0, 14061, 33978, 54482, 76853)\n",
      "(u'PF00005', u'ABC_tran', u'', u'ABC transporter', u'Sonnhammer ELL, Bateman A', u'anon', u'Prosite', u'Domain', u'ABC transporters for a large family of proteins responsible for translocation of a variety of compounds across biological membranes.  ABC transporters are the largest family of proteins in many completely sequenced bacteria. ABC transporters are composed of two copies of this domain and two copies of a transmembrane domain Pfam:PF00664.  These four domains may belong to a single polypeptide as in Swiss:P13569, or belong in different polypeptide chains.', 23.1, 23.1, 23.1, 23.1, 23.0, 23.0, u'hmmbuild  -o /dev/null --hand HMM SEED', 137, u'hmmsearch -Z 17690987 -E 1000 --cpu 4 HMM pfamseq', 0.71, -9.99, 0.71, -10.82, 0.71, -3.87, 55, 228719, u'2016-04-22 01:25:15', u'2003-04-07 12:59:11', 25, 1119, 3422, 507, 1377676, 81790, 148.4, 26, 36.05, u'CHANGED', u'LpslshslptGchlullGtsGuGKSTLLphlsGhhpP.....spGpl.....................hhp.spsht...........hpthcppluhl.Qp..splhspho.lt-slh.s..........................................hhthtppttpsc........hpphlpplshht..........................hhcphl..............tpLSGGp+p..RlslA+slhppsplLlLDEPTs', u'.....................................................................................................................................................................................................................................................................................................................................................................................................cslsh.p.l...p...t....G..c..h....l...u....l.....l...G......s..s............G......u.............G..............K........S.....T......l.....l.........p..........h........l.......s........u....h...h.....p..s..........................s.s.....G.....p....l........................................................................................................................................................................................h..l...s....G....t....s...ltt....................................................h..t....t..h....p.....p.....p.....l.......u....h.....l.............Qp...........s.L...h...s....t...h...s...lt-slthsh....................................................................................................................................................................................................................................................................................................................................................................................................................................................................................................................thtttptptp.....................h.p...p...h....l.....p...t......l....s...l..t.t....................................................................h....p....p...h.....h.........................tpL..S....G.....G......p.......+......Q.............R........l..........s.......l........A......+............A...........L...........h...........p............p...........P...........c..........l.......l.......l.....l.....DEPT..................................................................................................................................................................................................................................................................................................................................................................................', 0, 927375, 0, 51751, 163266, 291546, 463725)\n",
      "(u'PF00006', u'ATP-synt_ab', u'', u'ATP synthase alpha/beta family, nucleotide-binding domain', u'Bateman A, Sonnhammer ELL, Griffiths-Jones SR', u'anon', u'Prosite', u'Domain', u'This entry includes the ATP synthase alpha and beta subunits, the ATP synthase associated with flagella and the termination factor Rho.', 22.9, 22.9, 22.9, 22.9, 22.8, 22.8, u'hmmbuild  -o /dev/null --hand HMM SEED', 213, u'hmmsearch -Z 17690987 -E 1000 --cpu 4 HMM pfamseq', 0.7, -10.26, 0.7, -11.26, 0.7, -4.9, 508, 13410, u'2016-04-22 01:25:15', u'2003-04-07 12:59:11', 23, 119, 3282, 662, 71795, 10439, 212.8, 34, 43.11, u'CHANGED', u'Gl+sIDuhhslu+GQRhsIhuusGsGKos.......lh....stIscps..t............c.....lsV.hsh......................................................................................................................................................................................................................................................................................................................................................................................................................................................................lGERscElpchlcchhp......st...uhc.......+ol.lVsususcPshhRhtushs.uhslAEYFR-.pGpcVLllhDsloRaApAhREluLtht..Es.PupcGYPsslFshlucLlERAGph........p.......................GSITul.sVhspu-Dh.o-PlsssshuIhDGpIhLsRcLsppGhaPAI-lhtSlS', u'.................................................................................................Gl+sIDhhsP....lu+G.Q+hh.lhG.s....s.t..sG.KTs....lh......ppl.h....pp..h...sts...............................p...hhsl.a.s.u..........................................................................................................................................................................................................................................................................................................................................................................................................................................................................................................................................l...G.ERs.cE.s....s-.....hh.cphpc.........................................ps.......shp........ps.s...l.Vhu....shs-P...s...s.t+htsshs.u............l.....sh...AE..aFt............-......p............G..........p............c............VLlhhD..sl....oR....aAp....A.h.p..E.lSs..hl.t...+..h......P.u......p.tGY.ssslh.t.c.....hu.....plh.ERAsph...........................tc.....................................................s..G..S..l.Tuls...s.....l.h..s.....u.s..............D.h....o.-.......s..l.s.sssh.uhs......-................u..pl...hLs.RpLs..ppGlaPAlssh.ShS................................................................................................', 1, 71594, 1, 3585, 9525, 15560, 23650)\n",
      "(u'PF00007', u'Cys_knot', u'', u'Cystine-knot domain', u'Sonnhammer ELL', u'anon', u'Published_alignment enriched with PDOC00234 members.', u'Domain', u'The family comprises glycoprotein hormones and the C-terminal domain of various extracellular proteins.  It is believed to be involved in disulfide-linked dimerisation.', 21.3, 21.3, 21.3, 21.3, 21.2, 21.2, u'hmmbuild  -o /dev/null HMM SEED', 105, u'hmmsearch -Z 17690987 -E 1000 --cpu 4 HMM pfamseq', 0.72, -10.85, 0.72, -11.43, 0.72, -3.95, 24, 918, u'2016-04-19 16:35:55', u'2003-04-07 12:59:11', 20, 22, 106, 33, 4615, 0, 96.1, 26, 33.66, u'CHANGED', u't.hCp.hN...hTlplE+csCshClslpTTICsGaChTh-...sh.ssh..h.QplCsac-hpYcohclPsCPsGssPhhoYPVAhSCcCs..tCstssoDCsh.thpsshC', u'....................................s..hC..tt.......hshph..ph...p..u...Csss..p.shp.sphC.GhCh...........................s....s.....p.........................C..Chsppop.phhh...h...hpC.s...s.....G......s...s...h....p...h..s...hhh...l...p...oCpCp...pCspsss.h...........................', 1, 2395, 0, 131, 288, 572, 802)\n",
      "(u'PF00008', u'EGF', u'', u'EGF-like domain', u'Bateman A, Sonnhammer ELL', u'anon', u'Swissprot_feature_table', u'Domain', u'There is no clear separation between noise and signal. Pfam:PF00053 is very similar, but has 8 instead of 6 conserved cysteines. Includes some cytokine receptors. The EGF domain misses the N-terminus regions of the Ca2+ binding EGF domains (this is the main reason of discrepancy between swiss-prot domain start/end and Pfam).  The family is hard to model due to many similar but  different sub-types of EGF domains. Pfam certainly misses a number of EGF domains. ', 21.5, 21.5, 21.5, 21.5, 21.4, 21.4, u'hmmbuild  -o /dev/null HMM SEED', 32, u'hmmsearch -Z 17690987 -E 1000 --cpu 4 HMM pfamseq', 0.72, -7.85, 0.72, -8.31, 0.72, -3.84, 67, 31200, u'2016-04-21 21:00:23', u'2004-03-18 17:40:01', 25, 3401, 196, 317, 123658, 217, 31.8, 40, 9.43, u'CHANGED', u'Cst..ss..Cpssuh..C...hph......ssapCpCs..G....asGpp', u'...............Cts...sP.........C.tN.G.Gs...C......................hcth.......................ss..a.pC.pC..s..sG.............asGt.................', 0, 52124, 0, 10465, 15528, 22113, 27129)\n",
      "(u'PF00009', u'GTP_EFTU', u'', u'Elongation factor Tu GTP binding domain', u'Bateman A', u'anon', u'Prosite', u'Domain', u'This domain contains a P-loop motif, also found in several other families such as Pfam:PF00071, Pfam:PF00025 and Pfam:PF00063. Elongation factor Tu consists of three structural domains, this plus two C-terminal beta barrel domains.', 26.5, 26.5, 26.5, 26.5, 26.4, 26.4, u'hmmbuild  -o /dev/null HMM SEED', 194, u'hmmsearch -Z 17690987 -E 1000 --cpu 4 HMM pfamseq', 0.71, -10.53, 0.71, -11.16, 0.71, -4.99, 148, 30388, u'2016-04-22 01:25:15', u'2003-04-07 12:59:11', 25, 339, 3430, 444, 190387, 16536, 224.0, 27, 35.46, u'CHANGED', u'cphhNlulluHVDpGKTTLospllhhsuthtptt.hp....t..t.h..............hDphppE+ERG.....ITIpsutsphp.......................spphphsllDoPGHsD.Fstphhpu..huthDGAlLVlsAs........cG.......ltsQTcphhhhApphsls......hllhlNKhDps...........t.schpclscpltppl...........................................................................................hpth.h.t.p...........................hsllhuSAhpuh..................slp...............................................................................................................s.LL-slsphlPs', u'...............................................................................................................................hhNl.u.lluHl..Dp.....GK........T.TL.s........-..p..l..l....hh.s......u.t.ht..t....t..t...........t....th.................................................................hD.t...h..t..t...E....+.......c...R...G.......................I....T....I..p....s.u.s.h.p.hp.....................................................................................tpsh.p.lsl...l..D..........T..........P..........G...............H...........s..............D...........F...........s...........t.............p...........h......................p..u................hp...h........s...D.........u.........A...l.........L.....V...V...s.A.s......................c.G..............................l.t...s..Q.......T.........c......p..........t......h.........t......h.............A........p...............p......h................s...ls................hllhl..NK...h.....Dps........................ss.c...h..p...c...l...h...p...p..l.h...pth..............................................................................................................................................................................h.......ht........................................................hsl.lh.s.S.....A.hp.uh.............................slp.................................................................................................................................................t.Ll-tlhphh...........................................................................................................................................................................................................................................................................................................................................................................', 0, 150609, 1, 8342, 20968, 34121, 50752)\n",
      "(u'PF00010', u'HLH', u'', u'Helix-loop-helix DNA-binding domain', u'Eddy SR', u'anon', u'Unknown', u'Domain', u'NULL', 20.7, 20.7, 20.7, 20.7, 20.6, 20.6, u'hmmbuild  -o /dev/null HMM SEED', 55, u'hmmsearch -Z 17690987 -E 1000 --cpu 4 HMM pfamseq', 0.72, -8.26, 0.72, -8.6, 0.72, -4.22, 149, 20710, u'2016-03-24 10:43:16', u'2003-04-07 12:59:11', 24, 262, 511, 68, 56183, 9, 53.6, 29, 14.14, u'CHANGED', u'pRptpsthE+pRppplNpsh.ppL+phlPt.s......................................tspK..loKsslLchAlcYIppLp', u'.......................................t+sh...t.E.R.......p...R.R......c.c........l..N..p.t.......h..p.....pL.p.p..l..lPs..s...........................................................................................................................spK...h.....s....K.ss.lLpt.Al..pYlptL............................................................................', 0, 35560, 1, 3544, 9200, 15637, 19531)\n"
     ]
    }
   ],
   "source": [
    "for row in curs: print(row)"
   ]
  },
  {
   "cell_type": "code",
   "execution_count": 14,
   "metadata": {
    "collapsed": true
   },
   "outputs": [],
   "source": [
    "sql = 'select distinct type from pfamA'"
   ]
  },
  {
   "cell_type": "code",
   "execution_count": 15,
   "metadata": {},
   "outputs": [
    {
     "data": {
      "text/plain": [
       "<sqlite3.Cursor at 0x7fefac947340>"
      ]
     },
     "execution_count": 15,
     "metadata": {},
     "output_type": "execute_result"
    }
   ],
   "source": [
    "curs.execute(sql)"
   ]
  },
  {
   "cell_type": "code",
   "execution_count": 16,
   "metadata": {
    "collapsed": true
   },
   "outputs": [],
   "source": [
    "results = curs.fetchall()"
   ]
  },
  {
   "cell_type": "code",
   "execution_count": 17,
   "metadata": {},
   "outputs": [
    {
     "data": {
      "text/plain": [
       "6"
      ]
     },
     "execution_count": 17,
     "metadata": {},
     "output_type": "execute_result"
    }
   ],
   "source": [
    "len(results)"
   ]
  },
  {
   "cell_type": "code",
   "execution_count": 18,
   "metadata": {},
   "outputs": [
    {
     "data": {
      "text/plain": [
       "[(u'Family',),\n",
       " (u'Domain',),\n",
       " (u'Repeat',),\n",
       " (u'Motif',),\n",
       " (u'Disordered',),\n",
       " (u'Coiled-coil',)]"
      ]
     },
     "execution_count": 18,
     "metadata": {},
     "output_type": "execute_result"
    }
   ],
   "source": [
    "results"
   ]
  },
  {
   "cell_type": "code",
   "execution_count": 19,
   "metadata": {},
   "outputs": [
    {
     "data": {
      "text/plain": [
       "<sqlite3.Cursor at 0x7fefac947340>"
      ]
     },
     "execution_count": 19,
     "metadata": {},
     "output_type": "execute_result"
    }
   ],
   "source": [
    "curs.execute('select count(*) from pfamA')"
   ]
  },
  {
   "cell_type": "code",
   "execution_count": 20,
   "metadata": {},
   "outputs": [
    {
     "data": {
      "text/plain": [
       "[(16306,)]"
      ]
     },
     "execution_count": 20,
     "metadata": {},
     "output_type": "execute_result"
    }
   ],
   "source": [
    "curs.fetchall()"
   ]
  },
  {
   "cell_type": "code",
   "execution_count": 21,
   "metadata": {
    "collapsed": true
   },
   "outputs": [],
   "source": [
    "sql = 'select count(*) from pfamA group by type'"
   ]
  },
  {
   "cell_type": "code",
   "execution_count": 22,
   "metadata": {},
   "outputs": [
    {
     "data": {
      "text/plain": [
       "<sqlite3.Cursor at 0x7fefac947340>"
      ]
     },
     "execution_count": 22,
     "metadata": {},
     "output_type": "execute_result"
    }
   ],
   "source": [
    "curs.execute(sql)"
   ]
  },
  {
   "cell_type": "code",
   "execution_count": 23,
   "metadata": {},
   "outputs": [
    {
     "data": {
      "text/plain": [
       "[(41,), (56,), (5018,), (10895,), (74,), (222,)]"
      ]
     },
     "execution_count": 23,
     "metadata": {},
     "output_type": "execute_result"
    }
   ],
   "source": [
    "curs.fetchall()"
   ]
  },
  {
   "cell_type": "code",
   "execution_count": 24,
   "metadata": {
    "collapsed": true
   },
   "outputs": [],
   "source": [
    "sql = 'select type, count(*) from pfamA group by type'"
   ]
  },
  {
   "cell_type": "code",
   "execution_count": 25,
   "metadata": {},
   "outputs": [
    {
     "data": {
      "text/plain": [
       "<sqlite3.Cursor at 0x7fefac947340>"
      ]
     },
     "execution_count": 25,
     "metadata": {},
     "output_type": "execute_result"
    }
   ],
   "source": [
    "curs.execute(sql)"
   ]
  },
  {
   "cell_type": "code",
   "execution_count": 26,
   "metadata": {},
   "outputs": [
    {
     "data": {
      "text/plain": [
       "[(u'Coiled-coil', 41),\n",
       " (u'Disordered', 56),\n",
       " (u'Domain', 5018),\n",
       " (u'Family', 10895),\n",
       " (u'Motif', 74),\n",
       " (u'Repeat', 222)]"
      ]
     },
     "execution_count": 26,
     "metadata": {},
     "output_type": "execute_result"
    }
   ],
   "source": [
    "curs.fetchall()"
   ]
  },
  {
   "cell_type": "code",
   "execution_count": 27,
   "metadata": {
    "collapsed": true
   },
   "outputs": [],
   "source": [
    "sql = 'select * from pfamA where pfamA_id in (\"7tm_1\", \"7tm_2\", \"7tm_3\")'"
   ]
  },
  {
   "cell_type": "code",
   "execution_count": 28,
   "metadata": {},
   "outputs": [
    {
     "data": {
      "text/plain": [
       "<sqlite3.Cursor at 0x7fefac947340>"
      ]
     },
     "execution_count": 28,
     "metadata": {},
     "output_type": "execute_result"
    }
   ],
   "source": [
    "curs.execute(sql)"
   ]
  },
  {
   "cell_type": "code",
   "execution_count": 29,
   "metadata": {},
   "outputs": [
    {
     "data": {
      "text/plain": [
       "[(u'PF00001',\n",
       "  u'7tm_1',\n",
       "  u'',\n",
       "  u'7 transmembrane receptor (rhodopsin family)',\n",
       "  u'Sonnhammer ELL',\n",
       "  u'anon',\n",
       "  u'Prosite',\n",
       "  u'Family',\n",
       "  u'This family contains, amongst other G-protein-coupled receptors (GCPRs), members of the opsin family, which have been considered to be typical members of the rhodopsin superfamily. They share several motifs, mainly the seven transmembrane helices, GCPRs of the rhodopsin superfamily. All opsins bind a chromophore, such as 11-cis-retinal. The function of most opsins other than the photoisomerases is split into two steps: light absorption and G-protein activation. Photoisomerases, on the other hand, are not coupled to G-proteins - they are thought to generate and supply the chromophore that is used by visual opsins [1].',\n",
       "  23.8,\n",
       "  23.8,\n",
       "  23.8,\n",
       "  23.8,\n",
       "  23.7,\n",
       "  23.7,\n",
       "  u'hmmbuild  -o /dev/null --hand HMM SEED',\n",
       "  268,\n",
       "  u'hmmsearch -Z 17690987 -E 1000 --cpu 4 HMM pfamseq',\n",
       "  0.7,\n",
       "  -11.06,\n",
       "  0.7,\n",
       "  -11.96,\n",
       "  0.7,\n",
       "  -5.38,\n",
       "  64,\n",
       "  31273,\n",
       "  u'2016-04-19 23:28:59',\n",
       "  u'2003-04-07 12:59:11',\n",
       "  19,\n",
       "  352,\n",
       "  208,\n",
       "  234,\n",
       "  227924,\n",
       "  12,\n",
       "  254.2,\n",
       "  18,\n",
       "  68.24,\n",
       "  u'CHANGED',\n",
       "  u'GNhlVlhslht.p+c....h+o.ssshalhsLAluDLlhslhs.lPhhhh..........h.h.....ht.W.h..Gph...hCclhshhhhhshhuSlhhLsslolDRYlAIscPhphtth....hpputsh..hhhlWhhuhllulP.hhhhsp.................ttststChhph...........h.hhhtlhhhlh...uFhl.PhhlhshsYshI....hp.......tltp.....................................................................................................................................................................................................................................................................................................................................................................................................................htptppcp+s.h+...hlhsllslFhlCWhPahlhhhhtshpp.th.........th.thhh.hh.h.......luhsssslNPllY',\n",
       "  u'....................................................................................................................................................................................................................................................................................................................................................................................................................................tNhhl..l....h...s.....h....ht....p...p.p.............h..c....s......s..........s.......s...h....h......l......h........s......L.A....l.u...........D.....l.....l.....h........s.....h...........s.....h....P.h...hhh.......................................................h.........htp.W.......h.........u.p.h...........hC........p........h.........h...........h......h.......h...................h...............h.........s.......h........h...s....S.........l.......h..........h.......L......s..s........l...u......l......-................R.............Y...............h.......u..........l...s.....p...P......hp..htth..........................hp.p..s..h..hh................hsh..h..W.....h......h.....u.........h.......h....h......s...h.....s.............h.....h..h.hph.................................................................................t...h....t.........C.h...h.......................................................h..h...h...h...h.....h.....h....h....h..h...........h..a....h.....l.........P....h.....h....l.....h.......h....h...h.....Y.h.h.l................h.h.......................t.l..p....p.....................................................................................................................................................................................................................................................................................................................................................................................................................................................................................................................................................................................................................................................................................................................................................................................................................................................................................................................................................................................................................................................................................................................t...........t...t....t...................p........p....c.............p...+....s....hp........................h...l...h...h....l....l...h....s.......F...h...l.....s...W...h...P.....h...h......l......h......h......h....h..........h....h.....t............................................................h............h......h....h.........h....h..h.h......................l.s...h....h.s....u...s...h......N.P.hlY......................................................................................................................................................................................................................................................................................................................................................................................................................................................................................................................................................................................................................................................................................',\n",
       "  0,\n",
       "  81164,\n",
       "  1,\n",
       "  9800,\n",
       "  14965,\n",
       "  23693,\n",
       "  29414),\n",
       " (u'PF00002',\n",
       "  u'7tm_2',\n",
       "  u'',\n",
       "  u'7 transmembrane receptor (Secretin family)',\n",
       "  u'Sonnhammer ELL',\n",
       "  u'anon',\n",
       "  u'Prosite',\n",
       "  u'Family',\n",
       "  u'This family is known as Family B, the secretin-receptor family or family 2 of the G-protein-coupled receptors (GCPRs).They have been described in many animal species, but not in plants, fungi or prokaryotes. Three distinct sub-families are recognised. Subfamily B1 contains classical hormone receptors, such as receptors for secretin and glucagon, that are all involved in cAMP-mediated signalling pathways. Subfamily B2 contains receptors with long extracellular N-termini, such as the leukocyte cell-surface antigen CD97 (Swiss:P48960); calcium-independent receptors for latrotoxin (such as Swiss:O94910), and brain-specific angiogenesis inhibitors (such as Swiss:O14514) amongst others. Subfamily B3 includes Methuselah and other Drosophila proteins (e.g. Swiss:P83119). Other than the typical seven-transmembrane region, characteristic structural features include an amino-terminal extracellular domain involved in ligand binding, and an intracellular loop (IC3) required for specific G-protein coupling [1].',\n",
       "  20.6,\n",
       "  20.6,\n",
       "  20.6,\n",
       "  20.6,\n",
       "  20.5,\n",
       "  20.5,\n",
       "  u'hmmbuild  -o /dev/null HMM SEED',\n",
       "  245,\n",
       "  u'hmmsearch -Z 17690987 -E 1000 --cpu 4 HMM pfamseq',\n",
       "  0.7,\n",
       "  -11.05,\n",
       "  0.7,\n",
       "  -11.79,\n",
       "  0.7,\n",
       "  -5.29,\n",
       "  29,\n",
       "  5681,\n",
       "  u'2016-04-19 23:28:59',\n",
       "  u'2003-04-07 12:59:11',\n",
       "  22,\n",
       "  458,\n",
       "  290,\n",
       "  7,\n",
       "  25030,\n",
       "  4,\n",
       "  225.2,\n",
       "  22,\n",
       "  27.91,\n",
       "  u'CHANGED',\n",
       "  u'hhplpllhhlGaulSLsuLllAlhlhshF.RpL+Cs.RNhIHhNLhhoalLpshh.hhltpthhhs.............t...t.......................................ls..C+lssshhpYhhhssFhWhLlEGlYLasL.....lVhsahs-.+thhhhahllGWGhPslhlslasss...+sa...............hpsstC.Whspcs..shhWlhpGPlhhslllNhllFlpllplLhpKlppsphstscht..............................p+hs+...oollLlPLLGlpal..lFshsPcs....h..hlhhahthhlsSaQGhhV',\n",
       "  u'................................................................................h...h.hl.hlG.h.s...l...S.lh.s..L...h...h..s...l...h...h......h......h...h..............h.......+................p...............l..........p.....s.....p......p..........s.......h......l....p........h......s.....L....h.....h.......u....h...h.....ht.....t.lh.....h.l...l...t....t..hh..............................................................................................................................hh..C..thh.s.hh..h.....c..........a.h....h.l.u.s..a.h.....W.h...hl...E...ul..h.L...a...h..h..........................l.....s..........h..........s...........h.....................s.........p.........p.............p.......h.....h..h.........h......a....h......h....l.....G.......W........G...h..P..h.l..h.ls.....l.....hssh.............c.th.................................................h...p...s...p....h......C.....Wh..............p......................p.....s.................hh..h......a..........h..........h...h..........s....P....h...h......h....h....l..........h...........l.............N....h.h.......h..h....l........h...h...l....h..h..l...h....p..p...h....p....t....t........p.......t..t...p....p.....t....................................................................................................h.ph.h.t.....ss.......h..h....L..h........L...h........G.l.p.ah........lh..h...h.......tt...............hh...hh....hhhsu.hQ..Ghhl............................................................................................................................................................',\n",
       "  1,\n",
       "  9835,\n",
       "  1,\n",
       "  1569,\n",
       "  2403,\n",
       "  3788,\n",
       "  4895),\n",
       " (u'PF00003',\n",
       "  u'7tm_3',\n",
       "  u'',\n",
       "  u'7 transmembrane sweet-taste receptor of 3 GCPR',\n",
       "  u'Sonnhammer ELL',\n",
       "  u'anon',\n",
       "  u'Prosite',\n",
       "  u'Family',\n",
       "  u'This is a domain of seven transmembrane regions that forms the C-terminus of some subclass 3 G-coupled-protein receptors. It is often associated with a downstream cysteine-rich linker domain, NCD3G Pfam:PF07562, which is the human sweet-taste receptor, and the N-terminal domain, ANF_receptor Pfam:PF01094. The seven TM regions assemble in such a way as to produce a docking pocket into which such molecules as cyclamate and lactisole have been found to bind and consequently confer the taste of sweetness [1].',\n",
       "  28.5,\n",
       "  28.5,\n",
       "  28.5,\n",
       "  28.7,\n",
       "  28.3,\n",
       "  28.3,\n",
       "  u'hmmbuild  -o /dev/null HMM SEED',\n",
       "  234,\n",
       "  u'hmmsearch -Z 17690987 -E 1000 --cpu 4 HMM pfamseq',\n",
       "  0.7,\n",
       "  -10.88,\n",
       "  0.7,\n",
       "  -12.19,\n",
       "  0.7,\n",
       "  -4.79,\n",
       "  810,\n",
       "  4578,\n",
       "  u'2016-04-19 23:29:00',\n",
       "  u'2003-04-07 12:59:11',\n",
       "  20,\n",
       "  97,\n",
       "  176,\n",
       "  5,\n",
       "  13757,\n",
       "  7,\n",
       "  229.4,\n",
       "  26,\n",
       "  30.2,\n",
       "  u'CHANGED',\n",
       "  u'hlhsh...hlhsl...hlpa..+p...osll+u..ssht.Lshll.......Lhu.lhl....sa...ls...........hhhl................s................ps..........s.hs..........Ch......h.............................cp...hhhuls..F..ols........h.usll......s...K..oh.plh........hhF..................t.....st..............tp..................hhts......hphhh.lhhhs.....hlplh.lssh...W.l..h...hs.P...........................................................................................pht.....................................................................tphhh.C..t......................s.......hh.hhhluY...hslLhlhshhl.....A...........................a.hs.Rpl........P...psaN.Eu+aIsh.ohh............shhhlWlsalshhhssp.................sphh...............hsl......shull.......ho.shshLshlFhPKsal',\n",
       "  u'.................................................................................................................................................................................hhsh....hlhsl....Flpa..pc.....TPl.V...+u....sstp...Lsall.........Lhu..lhl............................sa....ls......hhal.........u.........................pPsshs...............Chl.............................+p...hhhu.ls....F...sls....h..uslL.....s....K.....Th...plh.......hhF..................................................ct.......pt...........h.phlss........tphhh..lhhhs................hlQll.lss.h...............Whh.h....s.P......s...................................................................................ph..p..............................................tphhl.C.........................h.shsh..hhsluY......................hslLh.l.h...shh..h.....A...............................a..hs...Rpl.......................P......csFN...EAKa.Is....F..oMh...........................s.hshlW..ls.FlPh.ahssp...............sphh.........................sss...................shull.hS....uhs.hLshlFhPKsa....................................................................',\n",
       "  0,\n",
       "  7711,\n",
       "  1,\n",
       "  1134,\n",
       "  2318,\n",
       "  3450,\n",
       "  4069)]"
      ]
     },
     "execution_count": 29,
     "metadata": {},
     "output_type": "execute_result"
    }
   ],
   "source": [
    "curs.fetchall()"
   ]
  },
  {
   "cell_type": "code",
   "execution_count": 30,
   "metadata": {
    "collapsed": true
   },
   "outputs": [],
   "source": [
    "sql = 'select pfamA_id from pfamA where pfamA_id like \"%tran%\" limit 10'"
   ]
  },
  {
   "cell_type": "code",
   "execution_count": 31,
   "metadata": {},
   "outputs": [
    {
     "data": {
      "text/plain": [
       "<sqlite3.Cursor at 0x7fefac947340>"
      ]
     },
     "execution_count": 31,
     "metadata": {},
     "output_type": "execute_result"
    }
   ],
   "source": [
    "curs.execute(sql)"
   ]
  },
  {
   "cell_type": "code",
   "execution_count": 32,
   "metadata": {},
   "outputs": [
    {
     "data": {
      "text/plain": [
       "[(u'5HT_transport_N',),\n",
       " (u'7TM_transglut',),\n",
       " (u'ABC_tran',),\n",
       " (u'ABC_tran_2',),\n",
       " (u'ABC_tran_CTD',),\n",
       " (u'ABC_tran_Xtn',),\n",
       " (u'ABC_trans_CmpB',),\n",
       " (u'ABC_trans_N',),\n",
       " (u'ABC_trans_aux',),\n",
       " (u'ABC_transp_aux',)]"
      ]
     },
     "execution_count": 32,
     "metadata": {},
     "output_type": "execute_result"
    }
   ],
   "source": [
    "curs.fetchall()"
   ]
  },
  {
   "cell_type": "code",
   "execution_count": 33,
   "metadata": {
    "collapsed": true
   },
   "outputs": [],
   "source": [
    "sql = 'insert into gene_ontology values  (\"myPfamid1\", \"goid\", \"myterm\", \"process\")'"
   ]
  },
  {
   "cell_type": "code",
   "execution_count": 34,
   "metadata": {},
   "outputs": [
    {
     "data": {
      "text/plain": [
       "<sqlite3.Cursor at 0x7fefac947340>"
      ]
     },
     "execution_count": 34,
     "metadata": {},
     "output_type": "execute_result"
    }
   ],
   "source": [
    "curs.execute(sql)"
   ]
  },
  {
   "cell_type": "code",
   "execution_count": 35,
   "metadata": {},
   "outputs": [
    {
     "data": {
      "text/plain": [
       "<sqlite3.Cursor at 0x7fefac947340>"
      ]
     },
     "execution_count": 35,
     "metadata": {},
     "output_type": "execute_result"
    }
   ],
   "source": [
    "curs.execute('select * from gene_ontology where pfamA_acc = \"myPfamid1\"')"
   ]
  },
  {
   "cell_type": "code",
   "execution_count": 36,
   "metadata": {},
   "outputs": [
    {
     "data": {
      "text/plain": [
       "[(u'myPfamid1', u'goid', u'myterm', u'process')]"
      ]
     },
     "execution_count": 36,
     "metadata": {},
     "output_type": "execute_result"
    }
   ],
   "source": [
    "curs.fetchall()"
   ]
  },
  {
   "cell_type": "code",
   "execution_count": 37,
   "metadata": {
    "collapsed": true
   },
   "outputs": [],
   "source": [
    "conn.rollback()"
   ]
  },
  {
   "cell_type": "code",
   "execution_count": 39,
   "metadata": {},
   "outputs": [
    {
     "data": {
      "text/plain": [
       "<sqlite3.Cursor at 0x7fefac947340>"
      ]
     },
     "execution_count": 39,
     "metadata": {},
     "output_type": "execute_result"
    }
   ],
   "source": [
    "curs.execute('select * from gene_ontology where pfamA_acc = \"myPfamid1\"')"
   ]
  },
  {
   "cell_type": "code",
   "execution_count": 40,
   "metadata": {},
   "outputs": [
    {
     "data": {
      "text/plain": [
       "[]"
      ]
     },
     "execution_count": 40,
     "metadata": {},
     "output_type": "execute_result"
    }
   ],
   "source": [
    "curs.fetchall()"
   ]
  },
  {
   "cell_type": "code",
   "execution_count": 41,
   "metadata": {},
   "outputs": [
    {
     "data": {
      "text/plain": [
       "<sqlite3.Cursor at 0x7fefac947340>"
      ]
     },
     "execution_count": 41,
     "metadata": {},
     "output_type": "execute_result"
    }
   ],
   "source": [
    "curs.execute('select * from pfamA limit 10')"
   ]
  },
  {
   "cell_type": "code",
   "execution_count": 42,
   "metadata": {},
   "outputs": [
    {
     "data": {
      "text/plain": [
       "(('pfamA_acc', None, None, None, None, None, None),\n",
       " ('pfamA_id', None, None, None, None, None, None),\n",
       " ('previous_id', None, None, None, None, None, None),\n",
       " ('description', None, None, None, None, None, None),\n",
       " ('author', None, None, None, None, None, None),\n",
       " ('deposited_by', None, None, None, None, None, None),\n",
       " ('seed_source', None, None, None, None, None, None),\n",
       " ('type', None, None, None, None, None, None),\n",
       " ('comment', None, None, None, None, None, None),\n",
       " ('sequence_GA', None, None, None, None, None, None),\n",
       " ('domain_GC', None, None, None, None, None, None),\n",
       " ('sequence_TC', None, None, None, None, None, None),\n",
       " ('domain_TC', None, None, None, None, None, None),\n",
       " ('sequence_NC', None, None, None, None, None, None),\n",
       " ('domain_NC', None, None, None, None, None, None),\n",
       " ('buildMethod', None, None, None, None, None, None),\n",
       " ('model_length', None, None, None, None, None, None),\n",
       " ('searchMethod', None, None, None, None, None, None),\n",
       " ('msv_lambda', None, None, None, None, None, None),\n",
       " ('msv', None, None, None, None, None, None),\n",
       " ('viterbi_lambda', None, None, None, None, None, None),\n",
       " ('viterbi_mu', None, None, None, None, None, None),\n",
       " ('forward_lambda', None, None, None, None, None, None),\n",
       " ('forward_tau', None, None, None, None, None, None),\n",
       " ('num_seed', None, None, None, None, None, None),\n",
       " ('num_full', None, None, None, None, None, None),\n",
       " ('updated', None, None, None, None, None, None),\n",
       " ('created', None, None, None, None, None, None),\n",
       " ('version', None, None, None, None, None, None),\n",
       " ('number_archs', None, None, None, None, None, None),\n",
       " ('number_species', None, None, None, None, None, None),\n",
       " ('number_structures', None, None, None, None, None, None),\n",
       " ('number_ncbi', None, None, None, None, None, None),\n",
       " ('number_meta', None, None, None, None, None, None),\n",
       " ('average_length', None, None, None, None, None, None),\n",
       " ('percentage_id', None, None, None, None, None, None),\n",
       " ('average_coverage', None, None, None, None, None, None),\n",
       " ('change_status', None, None, None, None, None, None),\n",
       " ('seed_consensus', None, None, None, None, None, None),\n",
       " ('full_consensus', None, None, None, None, None, None),\n",
       " ('number_shuffled_hits', None, None, None, None, None, None),\n",
       " ('number_uniprot', None, None, None, None, None, None),\n",
       " ('rp_seed', None, None, None, None, None, None),\n",
       " ('number_rp15', None, None, None, None, None, None),\n",
       " ('number_rp35', None, None, None, None, None, None),\n",
       " ('number_rp55', None, None, None, None, None, None),\n",
       " ('number_rp75', None, None, None, None, None, None))"
      ]
     },
     "execution_count": 42,
     "metadata": {},
     "output_type": "execute_result"
    }
   ],
   "source": [
    "curs.description"
   ]
  },
  {
   "cell_type": "code",
   "execution_count": 53,
   "metadata": {},
   "outputs": [],
   "source": [
    "def get_header(cursor):\n",
    "    '''Makes a header row from the cursor description. Its tab\n",
    "delimited.\n",
    "\n",
    "\n",
    "Arguments:\n",
    "    cursor: a cursor after a select query\n",
    "Returns:\n",
    "    string: A string consisting of the column names separated by tabs, no new line\n",
    "'''\n",
    "    return '\\t'.join([row[0] for row in cursor.description])\n",
    "#    colNames = []\n",
    "#    for row  in cursor.description:\n",
    "#        colNames.append(row[0])\n",
    "#    return '\\t'.join(colNames)"
   ]
  },
  {
   "cell_type": "code",
   "execution_count": 54,
   "metadata": {},
   "outputs": [
    {
     "name": "stdout",
     "output_type": "stream",
     "text": [
      "pfamA_acc\tpfamA_id\tprevious_id\tdescription\tauthor\tdeposited_by\tseed_source\ttype\tcomment\tsequence_GA\tdomain_GC\tsequence_TC\tdomain_TC\tsequence_NC\tdomain_NC\tbuildMethod\tmodel_length\tsearchMethod\tmsv_lambda\tmsv\tviterbi_lambda\tviterbi_mu\tforward_lambda\tforward_tau\tnum_seed\tnum_full\tupdated\tcreated\tversion\tnumber_archs\tnumber_species\tnumber_structures\tnumber_ncbi\tnumber_meta\taverage_length\tpercentage_id\taverage_coverage\tchange_status\tseed_consensus\tfull_consensus\tnumber_shuffled_hits\tnumber_uniprot\trp_seed\tnumber_rp15\tnumber_rp35\tnumber_rp55\tnumber_rp75\n"
     ]
    }
   ],
   "source": [
    "print(get_header(curs))"
   ]
  },
  {
   "cell_type": "code",
   "execution_count": 55,
   "metadata": {
    "collapsed": true
   },
   "outputs": [],
   "source": [
    "sql = 'drop table gene_ontology'"
   ]
  },
  {
   "cell_type": "code",
   "execution_count": 56,
   "metadata": {},
   "outputs": [
    {
     "data": {
      "text/plain": [
       "<sqlite3.Cursor at 0x7fefac947340>"
      ]
     },
     "execution_count": 56,
     "metadata": {},
     "output_type": "execute_result"
    }
   ],
   "source": [
    "curs.execute(sql)"
   ]
  },
  {
   "cell_type": "code",
   "execution_count": 59,
   "metadata": {},
   "outputs": [
    {
     "ename": "OperationalError",
     "evalue": "no such table: gene_ontology",
     "output_type": "error",
     "traceback": [
      "\u001b[0;31m---------------------------------------------------------------------------\u001b[0m",
      "\u001b[0;31mOperationalError\u001b[0m                          Traceback (most recent call last)",
      "\u001b[0;32m<ipython-input-59-0b35da8c8c9c>\u001b[0m in \u001b[0;36m<module>\u001b[0;34m()\u001b[0m\n\u001b[0;32m----> 1\u001b[0;31m \u001b[0mcurs\u001b[0m\u001b[0;34m.\u001b[0m\u001b[0mexecute\u001b[0m\u001b[0;34m(\u001b[0m\u001b[0;34m'select * from gene_ontology'\u001b[0m\u001b[0;34m)\u001b[0m\u001b[0;34m\u001b[0m\u001b[0m\n\u001b[0m",
      "\u001b[0;31mOperationalError\u001b[0m: no such table: gene_ontology"
     ]
    }
   ],
   "source": [
    "curs.execute('select * from gene_ontology')"
   ]
  },
  {
   "cell_type": "code",
   "execution_count": 60,
   "metadata": {
    "collapsed": true
   },
   "outputs": [],
   "source": [
    "conn.rollback()"
   ]
  },
  {
   "cell_type": "code",
   "execution_count": 61,
   "metadata": {},
   "outputs": [
    {
     "ename": "OperationalError",
     "evalue": "no such table: gene_ontology",
     "output_type": "error",
     "traceback": [
      "\u001b[0;31m---------------------------------------------------------------------------\u001b[0m",
      "\u001b[0;31mOperationalError\u001b[0m                          Traceback (most recent call last)",
      "\u001b[0;32m<ipython-input-61-0b35da8c8c9c>\u001b[0m in \u001b[0;36m<module>\u001b[0;34m()\u001b[0m\n\u001b[0;32m----> 1\u001b[0;31m \u001b[0mcurs\u001b[0m\u001b[0;34m.\u001b[0m\u001b[0mexecute\u001b[0m\u001b[0;34m(\u001b[0m\u001b[0;34m'select * from gene_ontology'\u001b[0m\u001b[0;34m)\u001b[0m\u001b[0;34m\u001b[0m\u001b[0m\n\u001b[0m",
      "\u001b[0;31mOperationalError\u001b[0m: no such table: gene_ontology"
     ]
    }
   ],
   "source": [
    "curs.execute('select * from gene_ontology')"
   ]
  },
  {
   "cell_type": "code",
   "execution_count": null,
   "metadata": {
    "collapsed": true
   },
   "outputs": [],
   "source": []
  }
 ],
 "metadata": {
  "kernelspec": {
   "display_name": "Python 3",
   "language": "python",
   "name": "python3"
  },
  "language_info": {
   "codemirror_mode": {
    "name": "ipython",
    "version": 3
   },
   "file_extension": ".py",
   "mimetype": "text/x-python",
   "name": "python",
   "nbconvert_exporter": "python",
   "pygments_lexer": "ipython3",
   "version": "3.7.3"
  }
 },
 "nbformat": 4,
 "nbformat_minor": 2
}
