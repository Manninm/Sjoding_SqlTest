{
 "cells": [
  {
   "cell_type": "code",
   "execution_count": 1,
   "metadata": {
    "collapsed": true
   },
   "outputs": [],
   "source": [
    "from sqlite3 import connect"
   ]
  },
  {
   "cell_type": "code",
   "execution_count": 2,
   "metadata": {
    "collapsed": true
   },
   "outputs": [],
   "source": [
    "from re import search, IGNORECASE, MULTILINE, DOTALL"
   ]
  },
  {
   "cell_type": "code",
   "execution_count": 3,
   "metadata": {
    "collapsed": true
   },
   "outputs": [],
   "source": [
    "def regexp(pattern, strToSearch):\n",
    "    return bool(search(pattern, strToSearch, IGNORECASE|MULTILINE|DOTALL))"
   ]
  },
  {
   "cell_type": "markdown",
   "metadata": {},
   "source": [
    "Be sure to change the path to your copy of small_pfam.sqlite"
   ]
  },
  {
   "cell_type": "code",
   "execution_count": 4,
   "metadata": {
    "collapsed": true
   },
   "outputs": [],
   "source": [
    "conn = connect('small_pfam.sqlite')"
   ]
  },
  {
   "cell_type": "code",
   "execution_count": 22,
   "metadata": {
    "collapsed": true
   },
   "outputs": [],
   "source": [
    "conn.create_function(\"REGEXP\", 2, regexp)"
   ]
  },
  {
   "cell_type": "code",
   "execution_count": 6,
   "metadata": {
    "collapsed": true
   },
   "outputs": [],
   "source": [
    "curs = conn.cursor()"
   ]
  },
  {
   "cell_type": "code",
   "execution_count": 7,
   "metadata": {
    "collapsed": true
   },
   "outputs": [],
   "source": [
    "sql = r'''select * \n",
    "from gene_ontology\n",
    "where term REGEXP 'transcription.*?(\\Bfactor|initiation)';'''"
   ]
  },
  {
   "cell_type": "code",
   "execution_count": 8,
   "metadata": {},
   "outputs": [
    {
     "data": {
      "text/plain": [
       "<sqlite3.Cursor at 0x7f39c8470030>"
      ]
     },
     "execution_count": 8,
     "metadata": {},
     "output_type": "execute_result"
    }
   ],
   "source": [
    "curs.execute(sql)"
   ]
  },
  {
   "cell_type": "code",
   "execution_count": 9,
   "metadata": {
    "scrolled": true
   },
   "outputs": [
    {
     "name": "stdout",
     "output_type": "stream",
     "text": [
      "('PF02135', 'GO:0003712', 'transcription cofactor activity', 'function')\n",
      "('PF00309', 'GO:0006352', 'DNA-templated transcription, initiation', 'process')\n",
      "('PF00352', 'GO:0006352', 'DNA-templated transcription, initiation', 'process')\n",
      "('PF02172', 'GO:0003712', 'transcription cofactor activity', 'function')\n",
      "('PF16987', 'GO:0003712', 'transcription cofactor activity', 'function')\n",
      "('PF02291', 'GO:0006352', 'DNA-templated transcription, initiation', 'process')\n",
      "('PF02186', 'GO:0006367', 'transcription initiation from RNA polymerase II promoter', 'process')\n",
      "('PF02270', 'GO:0006367', 'transcription initiation from RNA polymerase II promoter', 'process')\n",
      "('PF03847', 'GO:0006352', 'DNA-templated transcription, initiation', 'process')\n",
      "('PF03540', 'GO:0006352', 'DNA-templated transcription, initiation', 'process')\n",
      "('PF02969', 'GO:0006352', 'DNA-templated transcription, initiation', 'process')\n",
      "('PF03153', 'GO:0006367', 'transcription initiation from RNA polymerase II promoter', 'process')\n",
      "('PF04658', 'GO:0006367', 'transcription initiation from RNA polymerase II promoter', 'process')\n",
      "('PF04719', 'GO:0006367', 'transcription initiation from RNA polymerase II promoter', 'process')\n",
      "('PF04934', 'GO:0001104', 'RNA polymerase II transcription cofactor activity', 'function')\n",
      "('PF04963', 'GO:0006352', 'DNA-templated transcription, initiation', 'process')\n",
      "('PF04539', 'GO:0006352', 'DNA-templated transcription, initiation', 'process')\n",
      "('PF04542', 'GO:0006352', 'DNA-templated transcription, initiation', 'process')\n",
      "('PF04545', 'GO:0006352', 'DNA-templated transcription, initiation', 'process')\n",
      "('PF04546', 'GO:0006352', 'DNA-templated transcription, initiation', 'process')\n",
      "('PF05236', 'GO:0006352', 'DNA-templated transcription, initiation', 'process')\n",
      "('PF05397', 'GO:0001104', 'RNA polymerase II transcription cofactor activity', 'function')\n",
      "('PF05669', 'GO:0001104', 'RNA polymerase II transcription cofactor activity', 'function')\n",
      "('PF05793', 'GO:0006367', 'transcription initiation from RNA polymerase II promoter', 'process')\n",
      "('PF00140', 'GO:0006352', 'DNA-templated transcription, initiation', 'process')\n",
      "('PF05983', 'GO:0001104', 'RNA polymerase II transcription cofactor activity', 'function')\n",
      "('PF06179', 'GO:0001104', 'RNA polymerase II transcription cofactor activity', 'function')\n",
      "('PF06333', 'GO:0001104', 'RNA polymerase II transcription cofactor activity', 'function')\n",
      "('PF07544', 'GO:0001104', 'RNA polymerase II transcription cofactor activity', 'function')\n",
      "('PF08281', 'GO:0006352', 'DNA-templated transcription, initiation', 'process')\n",
      "('PF08612', 'GO:0001104', 'RNA polymerase II transcription cofactor activity', 'function')\n",
      "('PF08633', 'GO:0001104', 'RNA polymerase II transcription cofactor activity', 'function')\n",
      "('PF08638', 'GO:0001104', 'RNA polymerase II transcription cofactor activity', 'function')\n",
      "('PF08689', 'GO:0001104', 'RNA polymerase II transcription cofactor activity', 'function')\n",
      "('PF02751', 'GO:0006367', 'transcription initiation from RNA polymerase II promoter', 'process')\n",
      "('PF02268', 'GO:0006367', 'transcription initiation from RNA polymerase II promoter', 'process')\n",
      "('PF10380', 'GO:0003712', 'transcription cofactor activity', 'function')\n",
      "('PF09497', 'GO:0001104', 'RNA polymerase II transcription cofactor activity', 'function')\n",
      "('PF09606', 'GO:0001104', 'RNA polymerase II transcription cofactor activity', 'function')\n",
      "('PF09637', 'GO:0001104', 'RNA polymerase II transcription cofactor activity', 'function')\n",
      "('PF09748', 'GO:0001104', 'RNA polymerase II transcription cofactor activity', 'function')\n",
      "('PF10018', 'GO:0001104', 'RNA polymerase II transcription cofactor activity', 'function')\n",
      "('PF10156', 'GO:0001104', 'RNA polymerase II transcription cofactor activity', 'function')\n",
      "('PF10232', 'GO:0001104', 'RNA polymerase II transcription cofactor activity', 'function')\n",
      "('PF10278', 'GO:0001104', 'RNA polymerase II transcription cofactor activity', 'function')\n",
      "('PF10280', 'GO:0001104', 'RNA polymerase II transcription cofactor activity', 'function')\n",
      "('PF10744', 'GO:0001104', 'RNA polymerase II transcription cofactor activity', 'function')\n",
      "('PF11593', 'GO:0001104', 'RNA polymerase II transcription cofactor activity', 'function')\n",
      "('PF12090', 'GO:0003712', 'transcription cofactor activity', 'function')\n",
      "('PF15497', 'GO:0006384', 'transcription initiation from RNA polymerase III promoter', 'process')\n"
     ]
    }
   ],
   "source": [
    "for row in curs:print(row)"
   ]
  },
  {
   "cell_type": "code",
   "execution_count": 10,
   "metadata": {
    "collapsed": true
   },
   "outputs": [],
   "source": [
    "sql = r'''select * \n",
    "from gene_ontology\n",
    "where term REGEXP 'phospho[^egf]';'''"
   ]
  },
  {
   "cell_type": "code",
   "execution_count": 11,
   "metadata": {},
   "outputs": [
    {
     "data": {
      "text/plain": [
       "<sqlite3.Cursor at 0x7f39c8470030>"
      ]
     },
     "execution_count": 11,
     "metadata": {},
     "output_type": "execute_result"
    }
   ],
   "source": [
    "curs.execute(sql)"
   ]
  },
  {
   "cell_type": "code",
   "execution_count": 12,
   "metadata": {
    "scrolled": true
   },
   "outputs": [
    {
     "name": "stdout",
     "output_type": "stream",
     "text": [
      "('PF02896', 'GO:0016310', 'phosphorylation', 'process')\n",
      "('PF02896', 'GO:0016772', 'transferase activity, transferring phosphorus-containing groups', 'function')\n",
      "('PF00102', 'GO:0006470', 'protein dephosphorylation', 'process')\n",
      "('PF00782', 'GO:0006470', 'protein dephosphorylation', 'process')\n",
      "('PF02112', 'GO:0004115', \"3',5'-cyclic-AMP phosphodiesterase activity\", 'function')\n",
      "('PF01066', 'GO:0008654', 'phospholipid biosynthetic process', 'process')\n",
      "('PF01066', 'GO:0016780', 'phosphotransferase activity, for other substituted phosphate groups', 'function')\n",
      "('PF01288', 'GO:0003848', '2-amino-4-hydroxy-6-hydroxymethyldihydropteridine diphosphokinase activity', 'function')\n",
      "('PF01339', 'GO:0000160', 'phosphorelay signal transduction system', 'process')\n",
      "('PF01339', 'GO:0000156', 'phosphorelay response regulator activity', 'function')\n",
      "('PF00953', 'GO:0008963', 'phospho-N-acetylmuramoyl-pentapeptide-transferase activity', 'function')\n",
      "('PF00069', 'GO:0006468', 'protein phosphorylation', 'process')\n",
      "('PF06617', 'GO:0006470', 'protein dephosphorylation', 'process')\n",
      "('PF00459', 'GO:0046854', 'phosphatidylinositol phosphorylation', 'process')\n",
      "('PF00343', 'GO:0008184', 'glycogen phosphorylase activity', 'function')\n",
      "('PF01219', 'GO:0008654', 'phospholipid biosynthetic process', 'process')\n",
      "('PF00871', 'GO:0016774', 'phosphotransferase activity, carboxyl group as acceptor', 'function')\n",
      "('PF00871', 'GO:0016310', 'phosphorylation', 'process')\n",
      "('PF00211', 'GO:0016849', 'phosphorus-oxygen lyase activity', 'function')\n",
      "('PF00358', 'GO:0009401', 'phosphoenolpyruvate-dependent sugar phosphotransferase system', 'process')\n",
      "('PF00697', 'GO:0004640', 'phosphoribosylanthranilate isomerase activity', 'function')\n",
      "('PF07714', 'GO:0006468', 'protein phosphorylation', 'process')\n",
      "('PF00334', 'GO:0006165', 'nucleoside diphosphate phosphorylation', 'process')\n",
      "('PF00387', 'GO:0004435', 'phosphatidylinositol phospholipase C activity', 'function')\n",
      "('PF00072', 'GO:0000160', 'phosphorelay signal transduction system', 'process')\n",
      "('PF00486', 'GO:0000160', 'phosphorelay signal transduction system', 'process')\n",
      "('PF01121', 'GO:0004140', 'dephospho-CoA kinase activity', 'function')\n",
      "('PF02383', 'GO:0042578', 'phosphoric ester hydrolase activity', 'function')\n",
      "('PF00233', 'GO:0004114', \"3',5'-cyclic-nucleotide phosphodiesterase activity\", 'function')\n",
      "('PF01326', 'GO:0016310', 'phosphorylation', 'process')\n",
      "('PF01474', 'GO:0003849', '3-deoxy-7-phosphoheptulonate synthase activity', 'function')\n",
      "('PF01502', 'GO:0004635', 'phosphoribosyl-AMP cyclohydrolase activity', 'function')\n",
      "('PF07994', 'GO:0008654', 'phospholipid biosynthetic process', 'process')\n",
      "('PF01729', 'GO:0004514', 'nicotinate-nucleotide diphosphorylase (carboxylating) activity', 'function')\n",
      "('PF01735', 'GO:0009395', 'phospholipid catabolic process', 'process')\n",
      "('PF01735', 'GO:0004620', 'phospholipase activity', 'function')\n",
      "('PF01808', 'GO:0004643', 'phosphoribosylaminoimidazolecarboxamide formyltransferase activity', 'function')\n",
      "('PF01872', 'GO:0008703', '5-amino-6-(5-phosphoribosylamino)uracil reductase activity', 'function')\n",
      "('PF01874', 'GO:0016310', 'phosphorylation', 'process')\n",
      "('PF01874', 'GO:0046917', 'triphosphoribosyl-dephospho-CoA synthase activity', 'function')\n",
      "('PF01885', 'GO:0016772', 'transferase activity, transferring phosphorus-containing groups', 'function')\n",
      "('PF02109', 'GO:0004579', 'dolichyl-diphosphooligosaccharide-protein glycotransferase activity', 'function')\n",
      "('PF02253', 'GO:0004620', 'phospholipase activity', 'function')\n",
      "('PF02255', 'GO:0009401', 'phosphoenolpyruvate-dependent sugar phosphotransferase system', 'process')\n",
      "('PF02277', 'GO:0008939', 'nicotinate-nucleotide-dimethylbenzimidazole phosphoribosyltransferase activity', 'function')\n",
      "('PF02378', 'GO:0009401', 'phosphoenolpyruvate-dependent sugar phosphotransferase system', 'process')\n",
      "('PF02378', 'GO:0008982', 'protein-N(PI)-phosphohistidine-sugar phosphotransferase activity', 'function')\n",
      "('PF13303', 'GO:0009401', 'phosphoenolpyruvate-dependent sugar phosphotransferase system', 'process')\n",
      "('PF13303', 'GO:0008982', 'protein-N(PI)-phosphohistidine-sugar phosphotransferase activity', 'function')\n",
      "('PF02407', 'GO:0016888', \"endodeoxyribonuclease activity, producing 5'-phosphomonoesters\", 'function')\n",
      "('PF02302', 'GO:0009401', 'phosphoenolpyruvate-dependent sugar phosphotransferase system', 'process')\n",
      "('PF02302', 'GO:0008982', 'protein-N(PI)-phosphohistidine-sugar phosphotransferase activity', 'function')\n",
      "('PF08515', 'GO:0006468', 'protein phosphorylation', 'process')\n",
      "('PF03490', 'GO:0006650', 'glycerophospholipid metabolic process', 'process')\n",
      "('PF00512', 'GO:0000155', 'phosphorelay sensor kinase activity', 'function')\n",
      "('PF02581', 'GO:0004789', 'thiamine-phosphate diphosphorylase activity', 'function')\n",
      "('PF02611', 'GO:0008654', 'phospholipid biosynthetic process', 'process')\n",
      "('PF02660', 'GO:0008654', 'phospholipid biosynthetic process', 'process')\n",
      "('PF02666', 'GO:0008654', 'phospholipid biosynthetic process', 'process')\n",
      "('PF02673', 'GO:0016311', 'dephosphorylation', 'process')\n",
      "('PF02702', 'GO:0000155', 'phosphorelay sensor kinase activity', 'function')\n",
      "('PF02702', 'GO:0000160', 'phosphorelay signal transduction system', 'process')\n",
      "('PF02895', 'GO:0000155', 'phosphorelay sensor kinase activity', 'function')\n",
      "('PF02895', 'GO:0000160', 'phosphorelay signal transduction system', 'process')\n",
      "('PF02988', 'GO:0004859', 'phospholipase inhibitor activity', 'function')\n",
      "('PF02816', 'GO:0006468', 'protein phosphorylation', 'process')\n",
      "('PF02595', 'GO:0031388', 'organic acid phosphorylation', 'process')\n",
      "('PF03608', 'GO:0009401', 'phosphoenolpyruvate-dependent sugar phosphotransferase system', 'process')\n",
      "('PF03609', 'GO:0009401', 'phosphoenolpyruvate-dependent sugar phosphotransferase system', 'process')\n",
      "('PF03610', 'GO:0009401', 'phosphoenolpyruvate-dependent sugar phosphotransferase system', 'process')\n",
      "('PF03611', 'GO:0009401', 'phosphoenolpyruvate-dependent sugar phosphotransferase system', 'process')\n",
      "('PF03613', 'GO:0009401', 'phosphoenolpyruvate-dependent sugar phosphotransferase system', 'process')\n",
      "('PF03829', 'GO:0009401', 'phosphoenolpyruvate-dependent sugar phosphotransferase system', 'process')\n",
      "('PF03829', 'GO:0008982', 'protein-N(PI)-phosphohistidine-sugar phosphotransferase activity', 'function')\n",
      "('PF03830', 'GO:0009401', 'phosphoenolpyruvate-dependent sugar phosphotransferase system', 'process')\n",
      "('PF03830', 'GO:0008982', 'protein-N(PI)-phosphohistidine-sugar phosphotransferase activity', 'function')\n",
      "('PF03332', 'GO:0004615', 'phosphomannomutase activity', 'function')\n",
      "('PF03368', 'GO:0016891', \"endoribonuclease activity, producing 5'-phosphomonoesters\", 'function')\n",
      "('PF03403', 'GO:0003847', '1-alkyl-2-acetylglycerophosphocholine esterase activity', 'function')\n",
      "('PF03618', 'GO:0016772', 'transferase activity, transferring phosphorus-containing groups', 'function')\n",
      "('PF03623', 'GO:0006468', 'protein phosphorylation', 'process')\n",
      "('PF04029', 'GO:0050532', '2-phosphosulfolactate phosphatase activity', 'function')\n",
      "('PF03702', 'GO:0016773', 'phosphotransferase activity, alcohol group as acceptor', 'function')\n",
      "('PF00408', 'GO:0016868', 'intramolecular transferase activity, phosphotransferases', 'function')\n",
      "('PF02878', 'GO:0016868', 'intramolecular transferase activity, phosphotransferases', 'function')\n",
      "('PF02880', 'GO:0016868', 'intramolecular transferase activity, phosphotransferases', 'function')\n",
      "('PF04275', 'GO:0004631', 'phosphomevalonate kinase activity', 'function')\n",
      "('PF14572', 'GO:0004749', 'ribose phosphate diphosphokinase activity', 'function')\n",
      "('PF00757', 'GO:0006468', 'protein phosphorylation', 'process')\n",
      "('PF13307', 'GO:0016818', 'hydrolase activity, acting on acid anhydrides, in phosphorus-containing anhydrides', 'function')\n",
      "('PF04655', 'GO:0006468', 'protein phosphorylation', 'process')\n",
      "('PF04655', 'GO:0016773', 'phosphotransferase activity, alcohol group as acceptor', 'function')\n",
      "('PF04722', 'GO:0004721', 'phosphoprotein phosphatase activity', 'function')\n",
      "('PF04868', 'GO:0004114', \"3',5'-cyclic-nucleotide phosphodiesterase activity\", 'function')\n",
      "('PF04979', 'GO:0043666', 'regulation of phosphoprotein phosphatase activity', 'process')\n",
      "('PF04263', 'GO:0004788', 'thiamine diphosphokinase activity', 'function')\n",
      "('PF04336', 'GO:0008770', '[acyl-carrier-protein] phosphodiesterase activity', 'function')\n",
      "('PF04428', 'GO:0016773', 'phosphotransferase activity, alcohol group as acceptor', 'function')\n",
      "('PF04464', 'GO:0047355', 'CDP-glycerol glycerophosphotransferase activity', 'function')\n",
      "('PF04587', 'GO:0016773', 'phosphotransferase activity, alcohol group as acceptor', 'function')\n",
      "('PF04597', 'GO:0004579', 'dolichyl-diphosphooligosaccharide-protein glycotransferase activity', 'function')\n",
      "('PF05361', 'GO:0042325', 'regulation of phosphorylation', 'process')\n",
      "('PF01627', 'GO:0000160', 'phosphorelay signal transduction system', 'process')\n",
      "('PF00391', 'GO:0016310', 'phosphorylation', 'process')\n",
      "('PF00391', 'GO:0016772', 'transferase activity, transferring phosphorus-containing groups', 'function')\n",
      "('PF05881', 'GO:0004113', \"2',3'-cyclic-nucleotide 3'-phosphodiesterase activity\", 'function')\n",
      "('PF05506', 'GO:0004629', 'phospholipase C activity', 'function')\n",
      "('PF05524', 'GO:0009401', 'phosphoenolpyruvate-dependent sugar phosphotransferase system', 'process')\n",
      "('PF05845', 'GO:0019634', 'organic phosphonate metabolic process', 'process')\n",
      "('PF05861', 'GO:0019634', 'organic phosphonate metabolic process', 'process')\n",
      "('PF06471', 'GO:0016896', \"exoribonuclease activity, producing 5'-phosphomonoesters\", 'function')\n",
      "('PF06754', 'GO:0019634', 'organic phosphonate metabolic process', 'process')\n",
      "('PF06754', 'GO:0015716', 'organic phosphonate transport', 'process')\n",
      "('PF07057', 'GO:0016818', 'hydrolase activity, acting on acid anhydrides, in phosphorus-containing anhydrides', 'function')\n",
      "('PF06007', 'GO:0019700', 'organic phosphonate catabolic process', 'process')\n",
      "('PF06087', 'GO:0008081', 'phosphoric diester hydrolase activity', 'function')\n",
      "('PF06293', 'GO:0016773', 'phosphotransferase activity, alcohol group as acceptor', 'function')\n",
      "('PF06506', 'GO:0000160', 'phosphorelay signal transduction system', 'process')\n",
      "('PF06506', 'GO:0000156', 'phosphorelay response regulator activity', 'function')\n",
      "('PF06580', 'GO:0000155', 'phosphorelay sensor kinase activity', 'function')\n",
      "('PF06580', 'GO:0000160', 'phosphorelay signal transduction system', 'process')\n",
      "('PF06630', 'GO:0090305', 'nucleic acid phosphodiester bond hydrolysis', 'process')\n",
      "('PF06951', 'GO:0004623', 'phospholipase A2 activity', 'function')\n",
      "('PF07194', 'GO:0000155', 'phosphorelay sensor kinase activity', 'function')\n",
      "('PF07194', 'GO:0000160', 'phosphorelay signal transduction system', 'process')\n",
      "('PF07475', 'GO:0000155', 'phosphorelay sensor kinase activity', 'function')\n",
      "('PF07475', 'GO:0000160', 'phosphorelay signal transduction system', 'process')\n",
      "('PF02603', 'GO:0000155', 'phosphorelay sensor kinase activity', 'function')\n",
      "('PF02603', 'GO:0000160', 'phosphorelay signal transduction system', 'process')\n",
      "('PF07651', 'GO:0005543', 'phospholipid binding', 'function')\n",
      "('PF03612', 'GO:0009401', 'phosphoenolpyruvate-dependent sugar phosphotransferase system', 'process')\n",
      "('PF03612', 'GO:0008982', 'protein-N(PI)-phosphohistidine-sugar phosphotransferase activity', 'function')\n",
      "('PF07694', 'GO:0000155', 'phosphorelay sensor kinase activity', 'function')\n",
      "('PF07694', 'GO:0000160', 'phosphorelay signal transduction system', 'process')\n",
      "('PF07663', 'GO:0009401', 'phosphoenolpyruvate-dependent sugar phosphotransferase system', 'process')\n",
      "('PF07663', 'GO:0008982', 'protein-N(PI)-phosphohistidine-sugar phosphotransferase activity', 'function')\n",
      "('PF07730', 'GO:0000155', 'phosphorelay sensor kinase activity', 'function')\n",
      "('PF07730', 'GO:0000160', 'phosphorelay signal transduction system', 'process')\n",
      "('PF07823', 'GO:0004112', 'cyclic-nucleotide phosphodiesterase activity', 'function')\n",
      "('PF08072', 'GO:0016818', 'hydrolase activity, acting on acid anhydrides, in phosphorus-containing anhydrides', 'function')\n",
      "('PF07959', 'GO:0016772', 'transferase activity, transferring phosphorus-containing groups', 'function')\n",
      "('PF07830', 'GO:0004721', 'phosphoprotein phosphatase activity', 'function')\n",
      "('PF08074', 'GO:0016818', 'hydrolase activity, acting on acid anhydrides, in phosphorus-containing anhydrides', 'function')\n",
      "('PF08073', 'GO:0016818', 'hydrolase activity, acting on acid anhydrides, in phosphorus-containing anhydrides', 'function')\n",
      "('PF08029', 'GO:0003879', 'ATP phosphoribosyltransferase activity', 'function')\n",
      "('PF08332', 'GO:0006468', 'protein phosphorylation', 'process')\n",
      "('PF08440', 'GO:0016818', 'hydrolase activity, acting on acid anhydrides, in phosphorus-containing anhydrides', 'function')\n",
      "('PF08494', 'GO:0016818', 'hydrolase activity, acting on acid anhydrides, in phosphorus-containing anhydrides', 'function')\n",
      "('PF08499', 'GO:0004114', \"3',5'-cyclic-nucleotide phosphodiesterase activity\", 'function')\n",
      "('PF01634', 'GO:0003879', 'ATP phosphoribosyltransferase activity', 'function')\n",
      "('PF08703', 'GO:0004435', 'phosphatidylinositol phospholipase C activity', 'function')\n",
      "('PF08797', 'GO:0016818', 'hydrolase activity, acting on acid anhydrides, in phosphorus-containing anhydrides', 'function')\n",
      "('PF08826', 'GO:0006468', 'protein phosphorylation', 'process')\n",
      "('PF08917', 'GO:0006468', 'protein phosphorylation', 'process')\n",
      "('PF08918', 'GO:0018106', 'peptidyl-histidine phosphorylation', 'process')\n",
      "('PF08918', 'GO:0000160', 'phosphorelay signal transduction system', 'process')\n",
      "('PF08919', 'GO:0006468', 'protein phosphorylation', 'process')\n",
      "('PF08926', 'GO:0006468', 'protein phosphorylation', 'process')\n",
      "('PF09013', 'GO:0006470', 'protein dephosphorylation', 'process')\n",
      "('PF09036', 'GO:0006468', 'protein phosphorylation', 'process')\n",
      "('PF09111', 'GO:0016818', 'hydrolase activity, acting on acid anhydrides, in phosphorus-containing anhydrides', 'function')\n",
      "('PF09202', 'GO:0006468', 'protein phosphorylation', 'process')\n",
      "('PF00068', 'GO:0006644', 'phospholipid metabolic process', 'process')\n",
      "('PF00068', 'GO:0004623', 'phospholipase A2 activity', 'function')\n",
      "('PF05826', 'GO:0006644', 'phospholipid metabolic process', 'process')\n",
      "('PF05826', 'GO:0004623', 'phospholipase A2 activity', 'function')\n",
      "('PF00433', 'GO:0006468', 'protein phosphorylation', 'process')\n",
      "('PF00367', 'GO:0008982', 'protein-N(PI)-phosphohistidine-sugar phosphotransferase activity', 'function')\n",
      "('PF00370', 'GO:0016773', 'phosphotransferase activity, alcohol group as acceptor', 'function')\n",
      "('PF02782', 'GO:0016773', 'phosphotransferase activity, alcohol group as acceptor', 'function')\n",
      "('PF00191', 'GO:0005544', 'calcium-dependent phospholipid binding', 'function')\n",
      "('PF10430', 'GO:0006468', 'protein phosphorylation', 'process')\n",
      "('PF09456', 'GO:0018106', 'peptidyl-histidine phosphorylation', 'process')\n",
      "('PF09456', 'GO:0000160', 'phosphorelay signal transduction system', 'process')\n",
      "('PF09564', 'GO:0090305', 'nucleic acid phosphodiester bond hydrolysis', 'process')\n",
      "('PF09771', 'GO:0035307', 'positive regulation of protein dephosphorylation', 'process')\n",
      "('PF09788', 'GO:0046856', 'phosphatidylinositol dephosphorylation', 'process')\n",
      "('PF10120', 'GO:0004789', 'thiamine-phosphate diphosphorylase activity', 'function')\n",
      "('PF15036', 'GO:0001934', 'positive regulation of protein phosphorylation', 'process')\n",
      "('PF02843', 'GO:0004637', 'phosphoribosylamine-glycine ligase activity', 'function')\n",
      "('PF02844', 'GO:0004637', 'phosphoribosylamine-glycine ligase activity', 'function')\n",
      "('PF07688', 'GO:0006468', 'protein phosphorylation', 'process')\n",
      "('PF11380', 'GO:0016772', 'transferase activity, transferring phosphorus-containing groups', 'function')\n",
      "('PF11522', 'GO:0016773', 'phosphotransferase activity, alcohol group as acceptor', 'function')\n",
      "('PF02807', 'GO:0016772', 'transferase activity, transferring phosphorus-containing groups', 'function')\n",
      "('PF00217', 'GO:0016772', 'transferase activity, transferring phosphorus-containing groups', 'function')\n",
      "('PF00349', 'GO:0016773', 'phosphotransferase activity, alcohol group as acceptor', 'function')\n",
      "('PF03727', 'GO:0016773', 'phosphotransferase activity, alcohol group as acceptor', 'function')\n",
      "('PF08283', 'GO:0016888', \"endodeoxyribonuclease activity, producing 5'-phosphomonoesters\", 'function')\n",
      "('PF05706', 'GO:0004721', 'phosphoprotein phosphatase activity', 'function')\n",
      "('PF01982', 'GO:0016773', 'phosphotransferase activity, alcohol group as acceptor', 'function')\n",
      "('PF14724', 'GO:0050290', 'sphingomyelin phosphodiesterase D activity', 'function')\n",
      "('PF12814', 'GO:0005543', 'phospholipid binding', 'function')\n",
      "('PF03009', 'GO:0008081', 'phosphoric diester hydrolase activity', 'function')\n",
      "('PF15785', 'GO:0016310', 'phosphorylation', 'process')\n"
     ]
    }
   ],
   "source": [
    "for row in curs:print(row)"
   ]
  },
  {
   "cell_type": "code",
   "execution_count": 14,
   "metadata": {},
   "outputs": [
    {
     "ename": "ProgrammingError",
     "evalue": "Cannot operate on a closed database.",
     "output_type": "error",
     "traceback": [
      "\u001b[0;31m---------------------------------------------------------------------------\u001b[0m",
      "\u001b[0;31mProgrammingError\u001b[0m                          Traceback (most recent call last)",
      "\u001b[0;32m<ipython-input-14-07599fee4407>\u001b[0m in \u001b[0;36m<module>\u001b[0;34m()\u001b[0m\n\u001b[0;32m----> 1\u001b[0;31m \u001b[0mcurs\u001b[0m\u001b[0;34m.\u001b[0m\u001b[0mclose\u001b[0m\u001b[0;34m(\u001b[0m\u001b[0;34m)\u001b[0m\u001b[0;34m\u001b[0m\u001b[0m\n\u001b[0m\u001b[1;32m      2\u001b[0m \u001b[0mconn\u001b[0m\u001b[0;34m.\u001b[0m\u001b[0mclose\u001b[0m\u001b[0;34m(\u001b[0m\u001b[0;34m)\u001b[0m\u001b[0;34m\u001b[0m\u001b[0m\n",
      "\u001b[0;31mProgrammingError\u001b[0m: Cannot operate on a closed database."
     ]
    }
   ],
   "source": [
    "curs.close()\n",
    "conn.close()"
   ]
  },
  {
   "cell_type": "markdown",
   "metadata": {},
   "source": [
    "Please don't run this now. It's compute and IO intensive"
   ]
  },
  {
   "cell_type": "code",
   "execution_count": 15,
   "metadata": {
    "collapsed": true
   },
   "outputs": [],
   "source": [
    "conn = connect('pfam.sqlite')\n",
    "conn.create_function(\"REGEXP\", 2, regexp)\n",
    "curs = conn.cursor()"
   ]
  },
  {
   "cell_type": "code",
   "execution_count": 16,
   "metadata": {},
   "outputs": [
    {
     "data": {
      "text/plain": [
       "<sqlite3.Cursor at 0x7f39c8470180>"
      ]
     },
     "execution_count": 16,
     "metadata": {},
     "output_type": "execute_result"
    }
   ],
   "source": [
    "curs.execute('select count(*) from pfamseq')"
   ]
  },
  {
   "cell_type": "code",
   "execution_count": 17,
   "metadata": {},
   "outputs": [
    {
     "data": {
      "text/plain": [
       "[(26740544,)]"
      ]
     },
     "execution_count": 17,
     "metadata": {},
     "output_type": "execute_result"
    }
   ],
   "source": [
    "curs.fetchall()"
   ]
  },
  {
   "cell_type": "code",
   "execution_count": 18,
   "metadata": {
    "collapsed": true
   },
   "outputs": [],
   "source": [
    "sqlTemplate = \"\"\"SELECT pfamseq_acc, pfamseq_id, description\n",
    "FROM pfamseq\n",
    "WHERE sequence REGEXP '{}';\"\"\""
   ]
  },
  {
   "cell_type": "code",
   "execution_count": 19,
   "metadata": {
    "collapsed": true
   },
   "outputs": [],
   "source": [
    "pat = r'[livmfyc][^a][hy].d[livmfy][rstac][^d][^pf]n[livmfyc]{3}'\n",
    "# This is the prosite pattern PROTEIN_KINASE_TYR, PS00109"
   ]
  },
  {
   "cell_type": "code",
   "execution_count": 20,
   "metadata": {
    "collapsed": true
   },
   "outputs": [],
   "source": [
    "sql = sqlTemplate.format(pat)\n",
    "# This places the pattern in place of the {} in the template"
   ]
  },
  {
   "cell_type": "code",
   "execution_count": 23,
   "metadata": {},
   "outputs": [
    {
     "data": {
      "text/plain": [
       "<sqlite3.Cursor at 0x7f39c8470180>"
      ]
     },
     "execution_count": 23,
     "metadata": {},
     "output_type": "execute_result"
    }
   ],
   "source": [
    "curs.execute(sql)"
   ]
  },
  {
   "cell_type": "code",
   "execution_count": null,
   "metadata": {
    "collapsed": true
   },
   "outputs": [],
   "source": [
    "result = curs.fetchall()"
   ]
  },
  {
   "cell_type": "code",
   "execution_count": null,
   "metadata": {
    "collapsed": true
   },
   "outputs": [],
   "source": [
    "print(result[:5])"
   ]
  },
  {
   "cell_type": "code",
   "execution_count": null,
   "metadata": {
    "collapsed": true
   },
   "outputs": [],
   "source": [
    "curs.close()\n",
    "conn.close()"
   ]
  }
 ],
 "metadata": {
  "anaconda-cloud": {},
  "kernelspec": {
   "display_name": "Python 3",
   "language": "python",
   "name": "python3"
  },
  "language_info": {
   "codemirror_mode": {
    "name": "ipython",
    "version": 3
   },
   "file_extension": ".py",
   "mimetype": "text/x-python",
   "name": "python",
   "nbconvert_exporter": "python",
   "pygments_lexer": "ipython3",
   "version": "3.7.3"
  }
 },
 "nbformat": 4,
 "nbformat_minor": 1
}
