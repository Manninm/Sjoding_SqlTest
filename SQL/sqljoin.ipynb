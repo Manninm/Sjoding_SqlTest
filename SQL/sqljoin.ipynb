{
 "cells": [
  {
   "cell_type": "code",
   "execution_count": 2,
   "metadata": {
    "collapsed": true
   },
   "outputs": [],
   "source": [
    "from sqlite3 import connect"
   ]
  },
  {
   "cell_type": "code",
   "execution_count": 3,
   "metadata": {},
   "outputs": [],
   "source": [
    "conn = connect('small_pfam.sqlite')"
   ]
  },
  {
   "cell_type": "code",
   "execution_count": 5,
   "metadata": {
    "collapsed": true
   },
   "outputs": [],
   "source": [
    "curs = conn.cursor()"
   ]
  },
  {
   "cell_type": "markdown",
   "metadata": {},
   "source": [
    "The <font color='red'>JOIN ON</font> operation is a part of the <font color='red'>FROM</font> clause. It typically takes the form:\n",
    "\n",
    "<font color='red'>FROM</font> table1 <font color='red'>JOIN</font>  table2 <font color='red'>ON</font> table1.primarykey = table2.foreignkey\n",
    "\n",
    "Immediately following <font color='red'>JOIN</font> table2 <font color='red'>ON</font> you specify the condition for the join. Typically, this is the primary key for table1 and the related foreign key in table2.\n",
    "\n",
    "This can be extended for multiple tables:\n",
    "\n",
    "<font color='red'>FROM</font> table1 <font color='red'>JOIN</font>  table2 <font color='red'>ON</font> table1.primarykey = table2.foreignkey <font color='red'>JOIN</font> table3 <font color='red'>ON</font> table2.primarykey = table3.foreignkey\n",
    "\n",
    "A complete join query looks like:\n",
    "\n",
    "<font color='red'>SELECT</font> column1, column2, ...\n",
    "<font color='red'>FROM</font> table1 <font color='red'>JOIN</font>  table2 <font color='red'>ON</font> table1.primarykey = table2.foreignkey\n",
    "<font color='red'>WHERE</font> some_condition\n"
   ]
  },
  {
   "cell_type": "code",
   "execution_count": 6,
   "metadata": {
    "collapsed": true
   },
   "outputs": [],
   "source": [
    "query = \"\"\"select pfamA.pfamA_acc, pfamA.type, literature_reference.pmid, literature_reference.author\n",
    "from pfamA_literature_reference\n",
    "join pfamA on pfamA_literature_reference.pfamA_acc = pfamA.pfamA_acc\n",
    "join literature_reference on pfamA_literature_reference.auto_lit = literature_reference.auto_lit\n",
    "where pfamA.type = 'Coiled-coil';\n",
    "\"\"\""
   ]
  },
  {
   "cell_type": "code",
   "execution_count": 7,
   "metadata": {},
   "outputs": [
    {
     "data": {
      "text/plain": [
       "<sqlite3.Cursor at 0x7f46b40ce030>"
      ]
     },
     "execution_count": 7,
     "metadata": {},
     "output_type": "execute_result"
    }
   ],
   "source": [
    "curs.execute(query)"
   ]
  },
  {
   "cell_type": "code",
   "execution_count": 9,
   "metadata": {},
   "outputs": [
    {
     "data": {
      "text/plain": [
       "[('PF00038', 'Coiled-coil', 8771189, 'Quinlan R, Hutchison C, Lane B; '),\n",
       " ('PF00261', 'Coiled-coil', 6993480, 'Lewis WG, Smillie LB;'),\n",
       " ('PF00261', 'Coiled-coil', 23904035, 'Vindin H, Gunning P;'),\n",
       " ('PF00261', 'Coiled-coil', 11563548, 'Perry SV;'),\n",
       " ('PF00261', 'Coiled-coil', 3606587, 'MacLeod AR;'),\n",
       " ('PF01576',\n",
       "  'Coiled-coil',\n",
       "  3783701,\n",
       "  'Strehler EE, Strehler-page M-A, Perriard JC, Periasamy M, Nadal-ginard B; '),\n",
       " ('PF01920', 'Coiled-coil', 1748305, 'Ha H, Abe K, Artzt K; '),\n",
       " ('PF01920', 'Coiled-coil', 7828874, 'Shang HS, Wong SM, Tan HM, Wu M; '),\n",
       " ('PF01920', 'Coiled-coil', 9463374, 'Geissler S, Siegers K, Schiebel E; '),\n",
       " ('PF02996',\n",
       "  'Coiled-coil',\n",
       "  12456645,\n",
       "  'Martin-Benito J, Boskovic J, Gomez-Puertas P, Carrascosa JL, Simons CT, Lewis SA, Bartolini F, Cowan NJ, Valpuesta JM; ')]"
      ]
     },
     "execution_count": 9,
     "metadata": {},
     "output_type": "execute_result"
    }
   ],
   "source": [
    "result = curs.fetchmany(10)\n",
    "result"
   ]
  },
  {
   "cell_type": "markdown",
   "metadata": {},
   "source": [
    "All joins can be expressed without using JOIN ON and relying on the WHERE clause to perform all of the key comparisons.\n",
    "The following query is equivalent to the one above"
   ]
  },
  {
   "cell_type": "code",
   "execution_count": 10,
   "metadata": {
    "collapsed": true
   },
   "outputs": [],
   "source": [
    "query = \"\"\"SELECT pfamA.pfamA_acc, pfamA.'type', literature_reference.pmid, literature_reference.author\n",
    "FROM pfamA, pfamA_literature_reference, literature_reference\n",
    "WHERE pfamA.pfamA_acc = pfamA_literature_reference.pfamA_acc\n",
    "AND\n",
    "pfamA_literature_reference.auto_lit = literature_reference.auto_lit\n",
    "AND\n",
    "pfamA.type = 'Coiled-coil';\"\"\""
   ]
  },
  {
   "cell_type": "code",
   "execution_count": 11,
   "metadata": {},
   "outputs": [
    {
     "data": {
      "text/plain": [
       "<sqlite3.Cursor at 0x7f46b40ce030>"
      ]
     },
     "execution_count": 11,
     "metadata": {},
     "output_type": "execute_result"
    }
   ],
   "source": [
    "curs.execute(query)"
   ]
  },
  {
   "cell_type": "code",
   "execution_count": 12,
   "metadata": {},
   "outputs": [
    {
     "data": {
      "text/plain": [
       "[('PF00038', 'Coiled-coil', 8771189, 'Quinlan R, Hutchison C, Lane B; '),\n",
       " ('PF00261', 'Coiled-coil', 6993480, 'Lewis WG, Smillie LB;'),\n",
       " ('PF00261', 'Coiled-coil', 23904035, 'Vindin H, Gunning P;'),\n",
       " ('PF00261', 'Coiled-coil', 11563548, 'Perry SV;'),\n",
       " ('PF00261', 'Coiled-coil', 3606587, 'MacLeod AR;'),\n",
       " ('PF01576',\n",
       "  'Coiled-coil',\n",
       "  3783701,\n",
       "  'Strehler EE, Strehler-page M-A, Perriard JC, Periasamy M, Nadal-ginard B; '),\n",
       " ('PF01920', 'Coiled-coil', 1748305, 'Ha H, Abe K, Artzt K; '),\n",
       " ('PF01920', 'Coiled-coil', 7828874, 'Shang HS, Wong SM, Tan HM, Wu M; '),\n",
       " ('PF01920', 'Coiled-coil', 9463374, 'Geissler S, Siegers K, Schiebel E; '),\n",
       " ('PF02996',\n",
       "  'Coiled-coil',\n",
       "  12456645,\n",
       "  'Martin-Benito J, Boskovic J, Gomez-Puertas P, Carrascosa JL, Simons CT, Lewis SA, Bartolini F, Cowan NJ, Valpuesta JM; ')]"
      ]
     },
     "execution_count": 12,
     "metadata": {},
     "output_type": "execute_result"
    }
   ],
   "source": [
    "result = curs.fetchmany(10)\n",
    "result"
   ]
  },
  {
   "cell_type": "markdown",
   "metadata": {},
   "source": [
    "If you look at the pfam help on the relational database, you will see that they don't use the JOIN ON form in their examples:\n",
    "\n",
    "https://pfam.xfam.org/help#tabview=tab12"
   ]
  },
  {
   "cell_type": "code",
   "execution_count": null,
   "metadata": {
    "collapsed": true
   },
   "outputs": [],
   "source": []
  }
 ],
 "metadata": {
  "kernelspec": {
   "display_name": "Python 3",
   "language": "python",
   "name": "python3"
  },
  "language_info": {
   "codemirror_mode": {
    "name": "ipython",
    "version": 3
   },
   "file_extension": ".py",
   "mimetype": "text/x-python",
   "name": "python",
   "nbconvert_exporter": "python",
   "pygments_lexer": "ipython3",
   "version": "3.6.3"
  }
 },
 "nbformat": 4,
 "nbformat_minor": 2
}
